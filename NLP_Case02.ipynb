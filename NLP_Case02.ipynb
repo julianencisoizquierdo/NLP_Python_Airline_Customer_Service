{
  "cells": [
    {
      "cell_type": "markdown",
      "metadata": {
        "id": "view-in-github",
        "colab_type": "text"
      },
      "source": [
        "<a href=\"https://colab.research.google.com/github/julianencisoizquierdo/NLP_Python_Airline_Customer_Service/blob/main/NLP_Case02.ipynb\" target=\"_parent\"><img src=\"https://colab.research.google.com/assets/colab-badge.svg\" alt=\"Open In Colab\"/></a>"
      ]
    },
    {
      "cell_type": "code",
      "execution_count": null,
      "metadata": {
        "colab": {
          "base_uri": "https://localhost:8080/"
        },
        "id": "9NWNlqyIvLC5",
        "outputId": "7f90186d-b0d0-46f9-dab3-107c77920b8b"
      },
      "outputs": [
        {
          "output_type": "stream",
          "name": "stdout",
          "text": [
            "Mounted at /content/drive\n"
          ]
        }
      ],
      "source": [
        "from google.colab import drive\n",
        "drive.mount('/content/drive')"
      ]
    },
    {
      "cell_type": "code",
      "execution_count": null,
      "metadata": {
        "id": "DhTIdAyWwr90"
      },
      "outputs": [],
      "source": [
        "# suppress warnings\n",
        "import warnings;\n",
        "warnings.filterwarnings('ignore');\n",
        "\n",
        "# common imports\n",
        "import pandas as pd\n",
        "import numpy as np\n",
        "import matplotlib.pyplot as plt\n",
        "import html\n",
        "import math\n",
        "import re\n",
        "import glob\n",
        "import os\n",
        "import sys\n",
        "import json\n",
        "import random\n",
        "import pprint as pp\n",
        "import textwrap\n",
        "import sqlite3\n",
        "import logging\n",
        "from fractions import Fraction\n",
        "\n",
        "import spacy\n",
        "import nltk\n",
        "\n",
        "import seaborn as sns\n",
        "sns.set_style(\"darkgrid\")\n",
        "\n",
        "from tqdm.auto import tqdm\n",
        "# register `pandas.progress_apply` and `pandas.Series.map_apply` with `tqdm`\n",
        "tqdm.pandas()\n",
        "\n",
        "\n",
        "# Machine learning packages\n",
        "from sklearn.model_selection import train_test_split\n",
        "from sklearn.feature_extraction.text import TfidfVectorizer\n",
        "from sklearn.ensemble import RandomForestClassifier, GradientBoostingClassifier\n",
        "from sklearn.svm import SVC, LinearSVC\n",
        "from sklearn.metrics import accuracy_score, confusion_matrix, classification_report, ConfusionMatrixDisplay, f1_score, cohen_kappa_score, roc_auc_score, average_precision_score, precision_score, recall_score\n",
        "from sklearn.model_selection import cross_val_score, GridSearchCV\n",
        "from sklearn.pipeline import Pipeline\n",
        "from sklearn.dummy import DummyClassifier\n",
        "from sklearn.linear_model import LogisticRegression\n",
        "from sklearn.neighbors import KNeighborsClassifier\n",
        "from sklearn.preprocessing import LabelEncoder\n",
        "\n",
        "\n",
        "# pandas display options\n",
        "# https://pandas.pydata.org/pandas-docs/stable/user_guide/options.html#available-options\n",
        "pd.options.display.max_columns = 30 # default 20\n",
        "pd.options.display.max_rows = 60 # default 60\n",
        "pd.options.display.float_format = '{:.2f}'.format\n",
        "# pd.options.display.precision = 2\n",
        "pd.options.display.max_colwidth = 200 # default 50; -1 = all\n",
        "# otherwise text between $ signs will be interpreted as formula and printed in italic\n",
        "pd.set_option('display.html.use_mathjax', False)\n",
        "\n",
        "# np.set_printoptions(edgeitems=3) # default 3\n",
        "\n",
        "plot_params = {'figure.figsize': (8, 4),\n",
        "               'axes.labelsize': 'large',\n",
        "               'axes.titlesize': 'large',\n",
        "               'xtick.labelsize': 'large',\n",
        "               'ytick.labelsize':'large',\n",
        "               'figure.dpi': 100}\n",
        "\n",
        "\n"
      ]
    },
    {
      "cell_type": "code",
      "execution_count": null,
      "metadata": {
        "id": "gFUlUy2Pbs_H"
      },
      "outputs": [],
      "source": [
        "# Julie: I had to change this to my drive, as I couldnt access the shared folder from Colab\n",
        "BASE_DIR = '/content/drive/MyDrive/NLP Group Project/Datasets/packages'\n",
        "os.chdir(BASE_DIR)"
      ]
    },
    {
      "cell_type": "markdown",
      "metadata": {
        "id": "jQ1U-xLDxKh1"
      },
      "source": [
        "# **Case II**"
      ]
    },
    {
      "cell_type": "markdown",
      "metadata": {
        "id": "W3I1eLNJ4kUM"
      },
      "source": [
        "##**Step 1: Recode the outcome into a binary variable**"
      ]
    },
    {
      "cell_type": "code",
      "execution_count": null,
      "metadata": {
        "id": "wI5QFa2SVYXn"
      },
      "outputs": [],
      "source": [
        "#Jade: I created another df_java for me to run the code, using the shared drive as I couldn't read it\n",
        "df_java = pd.read_csv(\"/content/drive/MyDrive/NLP Group Project/Datasets/eclipse_jdt.csv\")"
      ]
    },
    {
      "cell_type": "code",
      "execution_count": null,
      "metadata": {
        "colab": {
          "base_uri": "https://localhost:8080/",
          "height": 352
        },
        "id": "1DEHMVtf6aDx",
        "outputId": "f956bcdc-c52e-43e1-8fed-a9d59741a3a1"
      },
      "outputs": [
        {
          "data": {
            "application/vnd.google.colaboratory.intrinsic+json": {
              "summary": "{\n  \"name\": \"df_java\",\n  \"rows\": 45296,\n  \"fields\": [\n    {\n      \"column\": \"Issue_id\",\n      \"properties\": {\n        \"dtype\": \"number\",\n        \"std\": 109016,\n        \"min\": 1518,\n        \"max\": 424785,\n        \"num_unique_values\": 45296,\n        \"samples\": [\n          239715,\n          395007,\n          409266\n        ],\n        \"semantic_type\": \"\",\n        \"description\": \"\"\n      }\n    },\n    {\n      \"column\": \"Priority\",\n      \"properties\": {\n        \"dtype\": \"category\",\n        \"num_unique_values\": 5,\n        \"samples\": [\n          \"P3\",\n          \"P5\",\n          \"P2\"\n        ],\n        \"semantic_type\": \"\",\n        \"description\": \"\"\n      }\n    },\n    {\n      \"column\": \"Component\",\n      \"properties\": {\n        \"dtype\": \"category\",\n        \"num_unique_values\": 6,\n        \"samples\": [\n          \"Debug\",\n          \"UI\",\n          \"APT\"\n        ],\n        \"semantic_type\": \"\",\n        \"description\": \"\"\n      }\n    },\n    {\n      \"column\": \"Duplicated_issue\",\n      \"properties\": {\n        \"dtype\": \"number\",\n        \"std\": 94600.43170742437,\n        \"min\": 10.0,\n        \"max\": 424403.0,\n        \"num_unique_values\": 4894,\n        \"samples\": [\n          5585.0,\n          1708.0,\n          320133.0\n        ],\n        \"semantic_type\": \"\",\n        \"description\": \"\"\n      }\n    },\n    {\n      \"column\": \"Title\",\n      \"properties\": {\n        \"dtype\": \"string\",\n        \"num_unique_values\": 44811,\n        \"samples\": [\n          \"should be possible to generate class file outside project tree\",\n          \"JRE source setting - no warning if no source (1GEUCF2)\",\n          \"NPE in JavaDocView\"\n        ],\n        \"semantic_type\": \"\",\n        \"description\": \"\"\n      }\n    },\n    {\n      \"column\": \"Description\",\n      \"properties\": {\n        \"dtype\": \"string\",\n        \"num_unique_values\": 44663,\n        \"samples\": [\n          \"If you set up your generated source directory to be an already-existing source; directory; we will remove everything inside that directory.; ; Need to prevent this; or at the very least offer a very stern warning in the UI.\",\n          \"build I20040611-0010; ; - load Text and UI loaded from head; except for org.eclipse.text; - built; - got some compile errors:; Severity\\tDescription\\tResource\\tIn Folder\\tLocation\\tCreation Time; 2\\tThe method computeUnprojectedMasterRegions(int; int) from the type; ProjectionDocument is not visible\\tProjectionViewer.java; org.eclipse.jface.text/projection/org/eclipse/jface/text/source/projection; line 183\\tJune 11; 2004 10:42:13 AM; 2\\tThe method computeProjectedMasterRegions(int; int) is undefined for the type; ProjectionDocument\\tProjectionViewer.java; org.eclipse.jface.text/projection/org/eclipse/jface/text/source/projection; line 191\\tJune 11; 2004 10:42:13 AM; ; - loaded org.eclipse.text from head; - Ctrl+B; - it did not fix up the errors; - touched ProjectionViewer; - Ctrl+B; - it appeared to do a full rebuild of org.eclipse.jface.text; ; Its as if the classpath change wasnt noticed earlier.\",\n          \"package p;; /**;  * @see p;  * @see p.A;  * @see p.AA;  */; public class AA {; }; ; The first reference (@see p) is not found when searching for references to; package p.; ; jdt-ui reminder: diable RenamePackageTests#test0()\"\n        ],\n        \"semantic_type\": \"\",\n        \"description\": \"\"\n      }\n    },\n    {\n      \"column\": \"Status\",\n      \"properties\": {\n        \"dtype\": \"category\",\n        \"num_unique_values\": 3,\n        \"samples\": [\n          \"VERIFIED\",\n          \"RESOLVED\",\n          \"CLOSED\"\n        ],\n        \"semantic_type\": \"\",\n        \"description\": \"\"\n      }\n    },\n    {\n      \"column\": \"Resolution\",\n      \"properties\": {\n        \"dtype\": \"category\",\n        \"num_unique_values\": 7,\n        \"samples\": [\n          \"FIXED\",\n          \"WORKSFORME\",\n          \"NDUPLICATE\"\n        ],\n        \"semantic_type\": \"\",\n        \"description\": \"\"\n      }\n    },\n    {\n      \"column\": \"Version\",\n      \"properties\": {\n        \"dtype\": \"category\",\n        \"num_unique_values\": 40,\n        \"samples\": [\n          \"3.4\",\n          \"3.2.2\",\n          \"3.1.2\"\n        ],\n        \"semantic_type\": \"\",\n        \"description\": \"\"\n      }\n    },\n    {\n      \"column\": \"Created_time\",\n      \"properties\": {\n        \"dtype\": \"object\",\n        \"num_unique_values\": 43239,\n        \"samples\": [\n          \"2004-12-10 04:44:00 -0500\",\n          \"2004-01-25 02:10:00 -0500\",\n          \"2008-04-03 23:37:00 -0400\"\n        ],\n        \"semantic_type\": \"\",\n        \"description\": \"\"\n      }\n    },\n    {\n      \"column\": \"Resolved_time\",\n      \"properties\": {\n        \"dtype\": \"object\",\n        \"num_unique_values\": 42754,\n        \"samples\": [\n          \"2002-06-03 08:48:09 -0400\",\n          \"2010-04-29 11:51:32 -0400\",\n          \"2013-08-06 09:36:16 -0400\"\n        ],\n        \"semantic_type\": \"\",\n        \"description\": \"\"\n      }\n    }\n  ]\n}",
              "type": "dataframe",
              "variable_name": "df_java"
            },
            "text/html": [
              "\n",
              "  <div id=\"df-fbb83e76-ae4b-49f0-b3fc-be2803572226\" class=\"colab-df-container\">\n",
              "    <div>\n",
              "<style scoped>\n",
              "    .dataframe tbody tr th:only-of-type {\n",
              "        vertical-align: middle;\n",
              "    }\n",
              "\n",
              "    .dataframe tbody tr th {\n",
              "        vertical-align: top;\n",
              "    }\n",
              "\n",
              "    .dataframe thead th {\n",
              "        text-align: right;\n",
              "    }\n",
              "</style>\n",
              "<table border=\"1\" class=\"dataframe tex2jax_ignore\">\n",
              "  <thead>\n",
              "    <tr style=\"text-align: right;\">\n",
              "      <th></th>\n",
              "      <th>Issue_id</th>\n",
              "      <th>Priority</th>\n",
              "      <th>Component</th>\n",
              "      <th>Duplicated_issue</th>\n",
              "      <th>Title</th>\n",
              "      <th>Description</th>\n",
              "      <th>Status</th>\n",
              "      <th>Resolution</th>\n",
              "      <th>Version</th>\n",
              "      <th>Created_time</th>\n",
              "      <th>Resolved_time</th>\n",
              "    </tr>\n",
              "  </thead>\n",
              "  <tbody>\n",
              "    <tr>\n",
              "      <th>0</th>\n",
              "      <td>1518</td>\n",
              "      <td>P1</td>\n",
              "      <td>Debug</td>\n",
              "      <td>NaN</td>\n",
              "      <td>Icons needed for actions (1GI5UXW)</td>\n",
              "      <td>JGS (8/8/01 5:20:19 PM); \\tWe need enabled; disabled &amp; hover icons for the following actions:; \\t\\tCopyToClipboardActionDelegate; \\t\\tRelaunchActionDelegate; \\t\\tTerminateAndRemoveActionDelegate; ...</td>\n",
              "      <td>VERIFIED</td>\n",
              "      <td>FIXED</td>\n",
              "      <td>2.0</td>\n",
              "      <td>2001-10-10 22:14:00 -0400</td>\n",
              "      <td>2001-10-18 11:51:14 -0400</td>\n",
              "    </tr>\n",
              "    <tr>\n",
              "      <th>1</th>\n",
              "      <td>1519</td>\n",
              "      <td>P3</td>\n",
              "      <td>Debug</td>\n",
              "      <td>NaN</td>\n",
              "      <td>README: Hit count not reset (1GET20Y)</td>\n",
              "      <td>JGS (6/4/01 11:43:47 AM); \\tSet a breakpoint in InfiniteLoop with a hit count.  When suspended;; \\tright click breakpoint in Breakpoints viewer and enable.  Hit count; \\tstays at previous value.  ...</td>\n",
              "      <td>RESOLVED</td>\n",
              "      <td>WORKSFORME</td>\n",
              "      <td>2.0</td>\n",
              "      <td>2001-10-10 22:14:00 -0400</td>\n",
              "      <td>2001-11-28 13:42:46 -0500</td>\n",
              "    </tr>\n",
              "    <tr>\n",
              "      <th>2</th>\n",
              "      <td>1520</td>\n",
              "      <td>P3</td>\n",
              "      <td>Debug</td>\n",
              "      <td>NaN</td>\n",
              "      <td>Use styled text in console (1G9S1YF)</td>\n",
              "      <td>DW (2/26/01 5:56:36 PM); \\tCould allow users to use styled text in console; with preference support. This would; \\tallow console input to be shown in bold; etc.</td>\n",
              "      <td>CLOSED</td>\n",
              "      <td>WONTFIX</td>\n",
              "      <td>2.0</td>\n",
              "      <td>2001-10-10 22:14:00 -0400</td>\n",
              "      <td>2002-06-26 11:32:05 -0400</td>\n",
              "    </tr>\n",
              "  </tbody>\n",
              "</table>\n",
              "</div>\n",
              "    <div class=\"colab-df-buttons\">\n",
              "\n",
              "  <div class=\"colab-df-container\">\n",
              "    <button class=\"colab-df-convert\" onclick=\"convertToInteractive('df-fbb83e76-ae4b-49f0-b3fc-be2803572226')\"\n",
              "            title=\"Convert this dataframe to an interactive table.\"\n",
              "            style=\"display:none;\">\n",
              "\n",
              "  <svg xmlns=\"http://www.w3.org/2000/svg\" height=\"24px\" viewBox=\"0 -960 960 960\">\n",
              "    <path d=\"M120-120v-720h720v720H120Zm60-500h600v-160H180v160Zm220 220h160v-160H400v160Zm0 220h160v-160H400v160ZM180-400h160v-160H180v160Zm440 0h160v-160H620v160ZM180-180h160v-160H180v160Zm440 0h160v-160H620v160Z\"/>\n",
              "  </svg>\n",
              "    </button>\n",
              "\n",
              "  <style>\n",
              "    .colab-df-container {\n",
              "      display:flex;\n",
              "      gap: 12px;\n",
              "    }\n",
              "\n",
              "    .colab-df-convert {\n",
              "      background-color: #E8F0FE;\n",
              "      border: none;\n",
              "      border-radius: 50%;\n",
              "      cursor: pointer;\n",
              "      display: none;\n",
              "      fill: #1967D2;\n",
              "      height: 32px;\n",
              "      padding: 0 0 0 0;\n",
              "      width: 32px;\n",
              "    }\n",
              "\n",
              "    .colab-df-convert:hover {\n",
              "      background-color: #E2EBFA;\n",
              "      box-shadow: 0px 1px 2px rgba(60, 64, 67, 0.3), 0px 1px 3px 1px rgba(60, 64, 67, 0.15);\n",
              "      fill: #174EA6;\n",
              "    }\n",
              "\n",
              "    .colab-df-buttons div {\n",
              "      margin-bottom: 4px;\n",
              "    }\n",
              "\n",
              "    [theme=dark] .colab-df-convert {\n",
              "      background-color: #3B4455;\n",
              "      fill: #D2E3FC;\n",
              "    }\n",
              "\n",
              "    [theme=dark] .colab-df-convert:hover {\n",
              "      background-color: #434B5C;\n",
              "      box-shadow: 0px 1px 3px 1px rgba(0, 0, 0, 0.15);\n",
              "      filter: drop-shadow(0px 1px 2px rgba(0, 0, 0, 0.3));\n",
              "      fill: #FFFFFF;\n",
              "    }\n",
              "  </style>\n",
              "\n",
              "    <script>\n",
              "      const buttonEl =\n",
              "        document.querySelector('#df-fbb83e76-ae4b-49f0-b3fc-be2803572226 button.colab-df-convert');\n",
              "      buttonEl.style.display =\n",
              "        google.colab.kernel.accessAllowed ? 'block' : 'none';\n",
              "\n",
              "      async function convertToInteractive(key) {\n",
              "        const element = document.querySelector('#df-fbb83e76-ae4b-49f0-b3fc-be2803572226');\n",
              "        const dataTable =\n",
              "          await google.colab.kernel.invokeFunction('convertToInteractive',\n",
              "                                                    [key], {});\n",
              "        if (!dataTable) return;\n",
              "\n",
              "        const docLinkHtml = 'Like what you see? Visit the ' +\n",
              "          '<a target=\"_blank\" href=https://colab.research.google.com/notebooks/data_table.ipynb>data table notebook</a>'\n",
              "          + ' to learn more about interactive tables.';\n",
              "        element.innerHTML = '';\n",
              "        dataTable['output_type'] = 'display_data';\n",
              "        await google.colab.output.renderOutput(dataTable, element);\n",
              "        const docLink = document.createElement('div');\n",
              "        docLink.innerHTML = docLinkHtml;\n",
              "        element.appendChild(docLink);\n",
              "      }\n",
              "    </script>\n",
              "  </div>\n",
              "\n",
              "\n",
              "<div id=\"df-70cbb8ea-e7e0-48f0-8b66-56f44dff5d6f\">\n",
              "  <button class=\"colab-df-quickchart\" onclick=\"quickchart('df-70cbb8ea-e7e0-48f0-8b66-56f44dff5d6f')\"\n",
              "            title=\"Suggest charts\"\n",
              "            style=\"display:none;\">\n",
              "\n",
              "<svg xmlns=\"http://www.w3.org/2000/svg\" height=\"24px\"viewBox=\"0 0 24 24\"\n",
              "     width=\"24px\">\n",
              "    <g>\n",
              "        <path d=\"M19 3H5c-1.1 0-2 .9-2 2v14c0 1.1.9 2 2 2h14c1.1 0 2-.9 2-2V5c0-1.1-.9-2-2-2zM9 17H7v-7h2v7zm4 0h-2V7h2v10zm4 0h-2v-4h2v4z\"/>\n",
              "    </g>\n",
              "</svg>\n",
              "  </button>\n",
              "\n",
              "<style>\n",
              "  .colab-df-quickchart {\n",
              "      --bg-color: #E8F0FE;\n",
              "      --fill-color: #1967D2;\n",
              "      --hover-bg-color: #E2EBFA;\n",
              "      --hover-fill-color: #174EA6;\n",
              "      --disabled-fill-color: #AAA;\n",
              "      --disabled-bg-color: #DDD;\n",
              "  }\n",
              "\n",
              "  [theme=dark] .colab-df-quickchart {\n",
              "      --bg-color: #3B4455;\n",
              "      --fill-color: #D2E3FC;\n",
              "      --hover-bg-color: #434B5C;\n",
              "      --hover-fill-color: #FFFFFF;\n",
              "      --disabled-bg-color: #3B4455;\n",
              "      --disabled-fill-color: #666;\n",
              "  }\n",
              "\n",
              "  .colab-df-quickchart {\n",
              "    background-color: var(--bg-color);\n",
              "    border: none;\n",
              "    border-radius: 50%;\n",
              "    cursor: pointer;\n",
              "    display: none;\n",
              "    fill: var(--fill-color);\n",
              "    height: 32px;\n",
              "    padding: 0;\n",
              "    width: 32px;\n",
              "  }\n",
              "\n",
              "  .colab-df-quickchart:hover {\n",
              "    background-color: var(--hover-bg-color);\n",
              "    box-shadow: 0 1px 2px rgba(60, 64, 67, 0.3), 0 1px 3px 1px rgba(60, 64, 67, 0.15);\n",
              "    fill: var(--button-hover-fill-color);\n",
              "  }\n",
              "\n",
              "  .colab-df-quickchart-complete:disabled,\n",
              "  .colab-df-quickchart-complete:disabled:hover {\n",
              "    background-color: var(--disabled-bg-color);\n",
              "    fill: var(--disabled-fill-color);\n",
              "    box-shadow: none;\n",
              "  }\n",
              "\n",
              "  .colab-df-spinner {\n",
              "    border: 2px solid var(--fill-color);\n",
              "    border-color: transparent;\n",
              "    border-bottom-color: var(--fill-color);\n",
              "    animation:\n",
              "      spin 1s steps(1) infinite;\n",
              "  }\n",
              "\n",
              "  @keyframes spin {\n",
              "    0% {\n",
              "      border-color: transparent;\n",
              "      border-bottom-color: var(--fill-color);\n",
              "      border-left-color: var(--fill-color);\n",
              "    }\n",
              "    20% {\n",
              "      border-color: transparent;\n",
              "      border-left-color: var(--fill-color);\n",
              "      border-top-color: var(--fill-color);\n",
              "    }\n",
              "    30% {\n",
              "      border-color: transparent;\n",
              "      border-left-color: var(--fill-color);\n",
              "      border-top-color: var(--fill-color);\n",
              "      border-right-color: var(--fill-color);\n",
              "    }\n",
              "    40% {\n",
              "      border-color: transparent;\n",
              "      border-right-color: var(--fill-color);\n",
              "      border-top-color: var(--fill-color);\n",
              "    }\n",
              "    60% {\n",
              "      border-color: transparent;\n",
              "      border-right-color: var(--fill-color);\n",
              "    }\n",
              "    80% {\n",
              "      border-color: transparent;\n",
              "      border-right-color: var(--fill-color);\n",
              "      border-bottom-color: var(--fill-color);\n",
              "    }\n",
              "    90% {\n",
              "      border-color: transparent;\n",
              "      border-bottom-color: var(--fill-color);\n",
              "    }\n",
              "  }\n",
              "</style>\n",
              "\n",
              "  <script>\n",
              "    async function quickchart(key) {\n",
              "      const quickchartButtonEl =\n",
              "        document.querySelector('#' + key + ' button');\n",
              "      quickchartButtonEl.disabled = true;  // To prevent multiple clicks.\n",
              "      quickchartButtonEl.classList.add('colab-df-spinner');\n",
              "      try {\n",
              "        const charts = await google.colab.kernel.invokeFunction(\n",
              "            'suggestCharts', [key], {});\n",
              "      } catch (error) {\n",
              "        console.error('Error during call to suggestCharts:', error);\n",
              "      }\n",
              "      quickchartButtonEl.classList.remove('colab-df-spinner');\n",
              "      quickchartButtonEl.classList.add('colab-df-quickchart-complete');\n",
              "    }\n",
              "    (() => {\n",
              "      let quickchartButtonEl =\n",
              "        document.querySelector('#df-70cbb8ea-e7e0-48f0-8b66-56f44dff5d6f button');\n",
              "      quickchartButtonEl.style.display =\n",
              "        google.colab.kernel.accessAllowed ? 'block' : 'none';\n",
              "    })();\n",
              "  </script>\n",
              "</div>\n",
              "    </div>\n",
              "  </div>\n"
            ],
            "text/plain": [
              "   Issue_id Priority Component  Duplicated_issue  \\\n",
              "0      1518       P1     Debug               NaN   \n",
              "1      1519       P3     Debug               NaN   \n",
              "2      1520       P3     Debug               NaN   \n",
              "\n",
              "                                   Title  \\\n",
              "0     Icons needed for actions (1GI5UXW)   \n",
              "1  README: Hit count not reset (1GET20Y)   \n",
              "2   Use styled text in console (1G9S1YF)   \n",
              "\n",
              "                                                                                                                                                                                               Description  \\\n",
              "0  JGS (8/8/01 5:20:19 PM); \\tWe need enabled; disabled & hover icons for the following actions:; \\t\\tCopyToClipboardActionDelegate; \\t\\tRelaunchActionDelegate; \\t\\tTerminateAndRemoveActionDelegate; ...   \n",
              "1  JGS (6/4/01 11:43:47 AM); \\tSet a breakpoint in InfiniteLoop with a hit count.  When suspended;; \\tright click breakpoint in Breakpoints viewer and enable.  Hit count; \\tstays at previous value.  ...   \n",
              "2                                         DW (2/26/01 5:56:36 PM); \\tCould allow users to use styled text in console; with preference support. This would; \\tallow console input to be shown in bold; etc.   \n",
              "\n",
              "     Status  Resolution Version               Created_time  \\\n",
              "0  VERIFIED       FIXED     2.0  2001-10-10 22:14:00 -0400   \n",
              "1  RESOLVED  WORKSFORME     2.0  2001-10-10 22:14:00 -0400   \n",
              "2    CLOSED     WONTFIX     2.0  2001-10-10 22:14:00 -0400   \n",
              "\n",
              "               Resolved_time  \n",
              "0  2001-10-18 11:51:14 -0400  \n",
              "1  2001-11-28 13:42:46 -0500  \n",
              "2  2002-06-26 11:32:05 -0400  "
            ]
          },
          "execution_count": 6,
          "metadata": {},
          "output_type": "execute_result"
        }
      ],
      "source": [
        "df_java.head(3)"
      ]
    },
    {
      "cell_type": "code",
      "execution_count": null,
      "metadata": {
        "colab": {
          "base_uri": "https://localhost:8080/"
        },
        "id": "o-JM4rUdAy9i",
        "outputId": "ac809027-063f-45dc-8a99-2320e0f7b067"
      },
      "outputs": [
        {
          "output_type": "stream",
          "name": "stdout",
          "text": [
            "<class 'pandas.core.frame.DataFrame'>\n",
            "RangeIndex: 45296 entries, 0 to 45295\n",
            "Data columns (total 11 columns):\n",
            " #   Column            Non-Null Count  Dtype  \n",
            "---  ------            --------------  -----  \n",
            " 0   Issue_id          45296 non-null  int64  \n",
            " 1   Priority          45296 non-null  object \n",
            " 2   Component         45296 non-null  object \n",
            " 3   Duplicated_issue  7688 non-null   float64\n",
            " 4   Title             45296 non-null  object \n",
            " 5   Description       45253 non-null  object \n",
            " 6   Status            45296 non-null  object \n",
            " 7   Resolution        45296 non-null  object \n",
            " 8   Version           45296 non-null  object \n",
            " 9   Created_time      45296 non-null  object \n",
            " 10  Resolved_time     45296 non-null  object \n",
            "dtypes: float64(1), int64(1), object(9)\n",
            "memory usage: 3.8+ MB\n"
          ]
        }
      ],
      "source": [
        "df_java.info()"
      ]
    },
    {
      "cell_type": "code",
      "execution_count": null,
      "metadata": {
        "colab": {
          "base_uri": "https://localhost:8080/",
          "height": 317
        },
        "id": "OjgOeaOiA4Eg",
        "outputId": "caaeb0d2-a0f1-4b0c-cc03-2254625c4a1a"
      },
      "outputs": [
        {
          "output_type": "execute_result",
          "data": {
            "text/plain": [
              "   Issue_id Priority Component                                  Title  \\\n",
              "0      1518     else     Debug     Icons needed for actions (1GI5UXW)   \n",
              "1      1519       P3     Debug  README: Hit count not reset (1GET20Y)   \n",
              "2      1520       P3     Debug   Use styled text in console (1G9S1YF)   \n",
              "\n",
              "                                                                                                                                                                                               Description  \\\n",
              "0  JGS (8/8/01 5:20:19 PM); \\tWe need enabled; disabled & hover icons for the following actions:; \\t\\tCopyToClipboardActionDelegate; \\t\\tRelaunchActionDelegate; \\t\\tTerminateAndRemoveActionDelegate; ...   \n",
              "1  JGS (6/4/01 11:43:47 AM); \\tSet a breakpoint in InfiniteLoop with a hit count.  When suspended;; \\tright click breakpoint in Breakpoints viewer and enable.  Hit count; \\tstays at previous value.  ...   \n",
              "2                                         DW (2/26/01 5:56:36 PM); \\tCould allow users to use styled text in console; with preference support. This would; \\tallow console input to be shown in bold; etc.   \n",
              "\n",
              "     Status  Resolution Version               Created_time  \\\n",
              "0  VERIFIED       FIXED     2.0  2001-10-10 22:14:00 -0400   \n",
              "1  RESOLVED  WORKSFORME     2.0  2001-10-10 22:14:00 -0400   \n",
              "2    CLOSED     WONTFIX     2.0  2001-10-10 22:14:00 -0400   \n",
              "\n",
              "               Resolved_time  \n",
              "0  2001-10-18 11:51:14 -0400  \n",
              "1  2001-11-28 13:42:46 -0500  \n",
              "2  2002-06-26 11:32:05 -0400  "
            ],
            "text/html": [
              "\n",
              "  <div id=\"df-98609395-9e11-4f52-b645-2c3932fcf73b\" class=\"colab-df-container\">\n",
              "    <div>\n",
              "<style scoped>\n",
              "    .dataframe tbody tr th:only-of-type {\n",
              "        vertical-align: middle;\n",
              "    }\n",
              "\n",
              "    .dataframe tbody tr th {\n",
              "        vertical-align: top;\n",
              "    }\n",
              "\n",
              "    .dataframe thead th {\n",
              "        text-align: right;\n",
              "    }\n",
              "</style>\n",
              "<table border=\"1\" class=\"dataframe tex2jax_ignore\">\n",
              "  <thead>\n",
              "    <tr style=\"text-align: right;\">\n",
              "      <th></th>\n",
              "      <th>Issue_id</th>\n",
              "      <th>Priority</th>\n",
              "      <th>Component</th>\n",
              "      <th>Title</th>\n",
              "      <th>Description</th>\n",
              "      <th>Status</th>\n",
              "      <th>Resolution</th>\n",
              "      <th>Version</th>\n",
              "      <th>Created_time</th>\n",
              "      <th>Resolved_time</th>\n",
              "    </tr>\n",
              "  </thead>\n",
              "  <tbody>\n",
              "    <tr>\n",
              "      <th>0</th>\n",
              "      <td>1518</td>\n",
              "      <td>else</td>\n",
              "      <td>Debug</td>\n",
              "      <td>Icons needed for actions (1GI5UXW)</td>\n",
              "      <td>JGS (8/8/01 5:20:19 PM); \\tWe need enabled; disabled &amp; hover icons for the following actions:; \\t\\tCopyToClipboardActionDelegate; \\t\\tRelaunchActionDelegate; \\t\\tTerminateAndRemoveActionDelegate; ...</td>\n",
              "      <td>VERIFIED</td>\n",
              "      <td>FIXED</td>\n",
              "      <td>2.0</td>\n",
              "      <td>2001-10-10 22:14:00 -0400</td>\n",
              "      <td>2001-10-18 11:51:14 -0400</td>\n",
              "    </tr>\n",
              "    <tr>\n",
              "      <th>1</th>\n",
              "      <td>1519</td>\n",
              "      <td>P3</td>\n",
              "      <td>Debug</td>\n",
              "      <td>README: Hit count not reset (1GET20Y)</td>\n",
              "      <td>JGS (6/4/01 11:43:47 AM); \\tSet a breakpoint in InfiniteLoop with a hit count.  When suspended;; \\tright click breakpoint in Breakpoints viewer and enable.  Hit count; \\tstays at previous value.  ...</td>\n",
              "      <td>RESOLVED</td>\n",
              "      <td>WORKSFORME</td>\n",
              "      <td>2.0</td>\n",
              "      <td>2001-10-10 22:14:00 -0400</td>\n",
              "      <td>2001-11-28 13:42:46 -0500</td>\n",
              "    </tr>\n",
              "    <tr>\n",
              "      <th>2</th>\n",
              "      <td>1520</td>\n",
              "      <td>P3</td>\n",
              "      <td>Debug</td>\n",
              "      <td>Use styled text in console (1G9S1YF)</td>\n",
              "      <td>DW (2/26/01 5:56:36 PM); \\tCould allow users to use styled text in console; with preference support. This would; \\tallow console input to be shown in bold; etc.</td>\n",
              "      <td>CLOSED</td>\n",
              "      <td>WONTFIX</td>\n",
              "      <td>2.0</td>\n",
              "      <td>2001-10-10 22:14:00 -0400</td>\n",
              "      <td>2002-06-26 11:32:05 -0400</td>\n",
              "    </tr>\n",
              "  </tbody>\n",
              "</table>\n",
              "</div>\n",
              "    <div class=\"colab-df-buttons\">\n",
              "\n",
              "  <div class=\"colab-df-container\">\n",
              "    <button class=\"colab-df-convert\" onclick=\"convertToInteractive('df-98609395-9e11-4f52-b645-2c3932fcf73b')\"\n",
              "            title=\"Convert this dataframe to an interactive table.\"\n",
              "            style=\"display:none;\">\n",
              "\n",
              "  <svg xmlns=\"http://www.w3.org/2000/svg\" height=\"24px\" viewBox=\"0 -960 960 960\">\n",
              "    <path d=\"M120-120v-720h720v720H120Zm60-500h600v-160H180v160Zm220 220h160v-160H400v160Zm0 220h160v-160H400v160ZM180-400h160v-160H180v160Zm440 0h160v-160H620v160ZM180-180h160v-160H180v160Zm440 0h160v-160H620v160Z\"/>\n",
              "  </svg>\n",
              "    </button>\n",
              "\n",
              "  <style>\n",
              "    .colab-df-container {\n",
              "      display:flex;\n",
              "      gap: 12px;\n",
              "    }\n",
              "\n",
              "    .colab-df-convert {\n",
              "      background-color: #E8F0FE;\n",
              "      border: none;\n",
              "      border-radius: 50%;\n",
              "      cursor: pointer;\n",
              "      display: none;\n",
              "      fill: #1967D2;\n",
              "      height: 32px;\n",
              "      padding: 0 0 0 0;\n",
              "      width: 32px;\n",
              "    }\n",
              "\n",
              "    .colab-df-convert:hover {\n",
              "      background-color: #E2EBFA;\n",
              "      box-shadow: 0px 1px 2px rgba(60, 64, 67, 0.3), 0px 1px 3px 1px rgba(60, 64, 67, 0.15);\n",
              "      fill: #174EA6;\n",
              "    }\n",
              "\n",
              "    .colab-df-buttons div {\n",
              "      margin-bottom: 4px;\n",
              "    }\n",
              "\n",
              "    [theme=dark] .colab-df-convert {\n",
              "      background-color: #3B4455;\n",
              "      fill: #D2E3FC;\n",
              "    }\n",
              "\n",
              "    [theme=dark] .colab-df-convert:hover {\n",
              "      background-color: #434B5C;\n",
              "      box-shadow: 0px 1px 3px 1px rgba(0, 0, 0, 0.15);\n",
              "      filter: drop-shadow(0px 1px 2px rgba(0, 0, 0, 0.3));\n",
              "      fill: #FFFFFF;\n",
              "    }\n",
              "  </style>\n",
              "\n",
              "    <script>\n",
              "      const buttonEl =\n",
              "        document.querySelector('#df-98609395-9e11-4f52-b645-2c3932fcf73b button.colab-df-convert');\n",
              "      buttonEl.style.display =\n",
              "        google.colab.kernel.accessAllowed ? 'block' : 'none';\n",
              "\n",
              "      async function convertToInteractive(key) {\n",
              "        const element = document.querySelector('#df-98609395-9e11-4f52-b645-2c3932fcf73b');\n",
              "        const dataTable =\n",
              "          await google.colab.kernel.invokeFunction('convertToInteractive',\n",
              "                                                    [key], {});\n",
              "        if (!dataTable) return;\n",
              "\n",
              "        const docLinkHtml = 'Like what you see? Visit the ' +\n",
              "          '<a target=\"_blank\" href=https://colab.research.google.com/notebooks/data_table.ipynb>data table notebook</a>'\n",
              "          + ' to learn more about interactive tables.';\n",
              "        element.innerHTML = '';\n",
              "        dataTable['output_type'] = 'display_data';\n",
              "        await google.colab.output.renderOutput(dataTable, element);\n",
              "        const docLink = document.createElement('div');\n",
              "        docLink.innerHTML = docLinkHtml;\n",
              "        element.appendChild(docLink);\n",
              "      }\n",
              "    </script>\n",
              "  </div>\n",
              "\n",
              "\n",
              "<div id=\"df-a7dbc5b0-fe09-43d7-8b87-fcce313bfa06\">\n",
              "  <button class=\"colab-df-quickchart\" onclick=\"quickchart('df-a7dbc5b0-fe09-43d7-8b87-fcce313bfa06')\"\n",
              "            title=\"Suggest charts\"\n",
              "            style=\"display:none;\">\n",
              "\n",
              "<svg xmlns=\"http://www.w3.org/2000/svg\" height=\"24px\"viewBox=\"0 0 24 24\"\n",
              "     width=\"24px\">\n",
              "    <g>\n",
              "        <path d=\"M19 3H5c-1.1 0-2 .9-2 2v14c0 1.1.9 2 2 2h14c1.1 0 2-.9 2-2V5c0-1.1-.9-2-2-2zM9 17H7v-7h2v7zm4 0h-2V7h2v10zm4 0h-2v-4h2v4z\"/>\n",
              "    </g>\n",
              "</svg>\n",
              "  </button>\n",
              "\n",
              "<style>\n",
              "  .colab-df-quickchart {\n",
              "      --bg-color: #E8F0FE;\n",
              "      --fill-color: #1967D2;\n",
              "      --hover-bg-color: #E2EBFA;\n",
              "      --hover-fill-color: #174EA6;\n",
              "      --disabled-fill-color: #AAA;\n",
              "      --disabled-bg-color: #DDD;\n",
              "  }\n",
              "\n",
              "  [theme=dark] .colab-df-quickchart {\n",
              "      --bg-color: #3B4455;\n",
              "      --fill-color: #D2E3FC;\n",
              "      --hover-bg-color: #434B5C;\n",
              "      --hover-fill-color: #FFFFFF;\n",
              "      --disabled-bg-color: #3B4455;\n",
              "      --disabled-fill-color: #666;\n",
              "  }\n",
              "\n",
              "  .colab-df-quickchart {\n",
              "    background-color: var(--bg-color);\n",
              "    border: none;\n",
              "    border-radius: 50%;\n",
              "    cursor: pointer;\n",
              "    display: none;\n",
              "    fill: var(--fill-color);\n",
              "    height: 32px;\n",
              "    padding: 0;\n",
              "    width: 32px;\n",
              "  }\n",
              "\n",
              "  .colab-df-quickchart:hover {\n",
              "    background-color: var(--hover-bg-color);\n",
              "    box-shadow: 0 1px 2px rgba(60, 64, 67, 0.3), 0 1px 3px 1px rgba(60, 64, 67, 0.15);\n",
              "    fill: var(--button-hover-fill-color);\n",
              "  }\n",
              "\n",
              "  .colab-df-quickchart-complete:disabled,\n",
              "  .colab-df-quickchart-complete:disabled:hover {\n",
              "    background-color: var(--disabled-bg-color);\n",
              "    fill: var(--disabled-fill-color);\n",
              "    box-shadow: none;\n",
              "  }\n",
              "\n",
              "  .colab-df-spinner {\n",
              "    border: 2px solid var(--fill-color);\n",
              "    border-color: transparent;\n",
              "    border-bottom-color: var(--fill-color);\n",
              "    animation:\n",
              "      spin 1s steps(1) infinite;\n",
              "  }\n",
              "\n",
              "  @keyframes spin {\n",
              "    0% {\n",
              "      border-color: transparent;\n",
              "      border-bottom-color: var(--fill-color);\n",
              "      border-left-color: var(--fill-color);\n",
              "    }\n",
              "    20% {\n",
              "      border-color: transparent;\n",
              "      border-left-color: var(--fill-color);\n",
              "      border-top-color: var(--fill-color);\n",
              "    }\n",
              "    30% {\n",
              "      border-color: transparent;\n",
              "      border-left-color: var(--fill-color);\n",
              "      border-top-color: var(--fill-color);\n",
              "      border-right-color: var(--fill-color);\n",
              "    }\n",
              "    40% {\n",
              "      border-color: transparent;\n",
              "      border-right-color: var(--fill-color);\n",
              "      border-top-color: var(--fill-color);\n",
              "    }\n",
              "    60% {\n",
              "      border-color: transparent;\n",
              "      border-right-color: var(--fill-color);\n",
              "    }\n",
              "    80% {\n",
              "      border-color: transparent;\n",
              "      border-right-color: var(--fill-color);\n",
              "      border-bottom-color: var(--fill-color);\n",
              "    }\n",
              "    90% {\n",
              "      border-color: transparent;\n",
              "      border-bottom-color: var(--fill-color);\n",
              "    }\n",
              "  }\n",
              "</style>\n",
              "\n",
              "  <script>\n",
              "    async function quickchart(key) {\n",
              "      const quickchartButtonEl =\n",
              "        document.querySelector('#' + key + ' button');\n",
              "      quickchartButtonEl.disabled = true;  // To prevent multiple clicks.\n",
              "      quickchartButtonEl.classList.add('colab-df-spinner');\n",
              "      try {\n",
              "        const charts = await google.colab.kernel.invokeFunction(\n",
              "            'suggestCharts', [key], {});\n",
              "      } catch (error) {\n",
              "        console.error('Error during call to suggestCharts:', error);\n",
              "      }\n",
              "      quickchartButtonEl.classList.remove('colab-df-spinner');\n",
              "      quickchartButtonEl.classList.add('colab-df-quickchart-complete');\n",
              "    }\n",
              "    (() => {\n",
              "      let quickchartButtonEl =\n",
              "        document.querySelector('#df-a7dbc5b0-fe09-43d7-8b87-fcce313bfa06 button');\n",
              "      quickchartButtonEl.style.display =\n",
              "        google.colab.kernel.accessAllowed ? 'block' : 'none';\n",
              "    })();\n",
              "  </script>\n",
              "</div>\n",
              "    </div>\n",
              "  </div>\n"
            ],
            "application/vnd.google.colaboratory.intrinsic+json": {
              "type": "dataframe",
              "variable_name": "df_java",
              "summary": "{\n  \"name\": \"df_java\",\n  \"rows\": 45296,\n  \"fields\": [\n    {\n      \"column\": \"Issue_id\",\n      \"properties\": {\n        \"dtype\": \"number\",\n        \"std\": 109016,\n        \"min\": 1518,\n        \"max\": 424785,\n        \"num_unique_values\": 45296,\n        \"samples\": [\n          239715,\n          395007,\n          409266\n        ],\n        \"semantic_type\": \"\",\n        \"description\": \"\"\n      }\n    },\n    {\n      \"column\": \"Priority\",\n      \"properties\": {\n        \"dtype\": \"category\",\n        \"num_unique_values\": 2,\n        \"samples\": [\n          \"P3\",\n          \"else\"\n        ],\n        \"semantic_type\": \"\",\n        \"description\": \"\"\n      }\n    },\n    {\n      \"column\": \"Component\",\n      \"properties\": {\n        \"dtype\": \"category\",\n        \"num_unique_values\": 6,\n        \"samples\": [\n          \"Debug\",\n          \"UI\"\n        ],\n        \"semantic_type\": \"\",\n        \"description\": \"\"\n      }\n    },\n    {\n      \"column\": \"Title\",\n      \"properties\": {\n        \"dtype\": \"string\",\n        \"num_unique_values\": 44811,\n        \"samples\": [\n          \"should be possible to generate class file outside project tree\",\n          \"JRE source setting - no warning if no source (1GEUCF2)\"\n        ],\n        \"semantic_type\": \"\",\n        \"description\": \"\"\n      }\n    },\n    {\n      \"column\": \"Description\",\n      \"properties\": {\n        \"dtype\": \"string\",\n        \"num_unique_values\": 44663,\n        \"samples\": [\n          \"If you set up your generated source directory to be an already-existing source; directory; we will remove everything inside that directory.; ; Need to prevent this; or at the very least offer a very stern warning in the UI.\",\n          \"build I20040611-0010; ; - load Text and UI loaded from head; except for org.eclipse.text; - built; - got some compile errors:; Severity\\tDescription\\tResource\\tIn Folder\\tLocation\\tCreation Time; 2\\tThe method computeUnprojectedMasterRegions(int; int) from the type; ProjectionDocument is not visible\\tProjectionViewer.java; org.eclipse.jface.text/projection/org/eclipse/jface/text/source/projection; line 183\\tJune 11; 2004 10:42:13 AM; 2\\tThe method computeProjectedMasterRegions(int; int) is undefined for the type; ProjectionDocument\\tProjectionViewer.java; org.eclipse.jface.text/projection/org/eclipse/jface/text/source/projection; line 191\\tJune 11; 2004 10:42:13 AM; ; - loaded org.eclipse.text from head; - Ctrl+B; - it did not fix up the errors; - touched ProjectionViewer; - Ctrl+B; - it appeared to do a full rebuild of org.eclipse.jface.text; ; Its as if the classpath change wasnt noticed earlier.\"\n        ],\n        \"semantic_type\": \"\",\n        \"description\": \"\"\n      }\n    },\n    {\n      \"column\": \"Status\",\n      \"properties\": {\n        \"dtype\": \"category\",\n        \"num_unique_values\": 3,\n        \"samples\": [\n          \"VERIFIED\",\n          \"RESOLVED\"\n        ],\n        \"semantic_type\": \"\",\n        \"description\": \"\"\n      }\n    },\n    {\n      \"column\": \"Resolution\",\n      \"properties\": {\n        \"dtype\": \"category\",\n        \"num_unique_values\": 7,\n        \"samples\": [\n          \"FIXED\",\n          \"WORKSFORME\"\n        ],\n        \"semantic_type\": \"\",\n        \"description\": \"\"\n      }\n    },\n    {\n      \"column\": \"Version\",\n      \"properties\": {\n        \"dtype\": \"category\",\n        \"num_unique_values\": 40,\n        \"samples\": [\n          \"3.4\",\n          \"3.2.2\"\n        ],\n        \"semantic_type\": \"\",\n        \"description\": \"\"\n      }\n    },\n    {\n      \"column\": \"Created_time\",\n      \"properties\": {\n        \"dtype\": \"object\",\n        \"num_unique_values\": 43239,\n        \"samples\": [\n          \"2004-12-10 04:44:00 -0500\",\n          \"2004-01-25 02:10:00 -0500\"\n        ],\n        \"semantic_type\": \"\",\n        \"description\": \"\"\n      }\n    },\n    {\n      \"column\": \"Resolved_time\",\n      \"properties\": {\n        \"dtype\": \"object\",\n        \"num_unique_values\": 42754,\n        \"samples\": [\n          \"2002-06-03 08:48:09 -0400\",\n          \"2010-04-29 11:51:32 -0400\"\n        ],\n        \"semantic_type\": \"\",\n        \"description\": \"\"\n      }\n    }\n  ]\n}"
            }
          },
          "metadata": {},
          "execution_count": 9
        }
      ],
      "source": [
        "df_java = df_java.drop(columns = [\"Duplicated_issue\"])\n",
        "df_java.head(3)"
      ]
    },
    {
      "cell_type": "code",
      "execution_count": null,
      "metadata": {
        "colab": {
          "base_uri": "https://localhost:8080/",
          "height": 406
        },
        "id": "pKUIz6bG65c9",
        "outputId": "4d23d949-f928-44cc-aa46-804b8fb9ddaa"
      },
      "outputs": [
        {
          "output_type": "execute_result",
          "data": {
            "text/plain": [
              "   Issue_id Priority Component  Duplicated_issue  \\\n",
              "0      1518     else     Debug               NaN   \n",
              "1      1519       P3     Debug               NaN   \n",
              "2      1520       P3     Debug               NaN   \n",
              "\n",
              "                                   Title  \\\n",
              "0     Icons needed for actions (1GI5UXW)   \n",
              "1  README: Hit count not reset (1GET20Y)   \n",
              "2   Use styled text in console (1G9S1YF)   \n",
              "\n",
              "                                                                                                                                                                                               Description  \\\n",
              "0  JGS (8/8/01 5:20:19 PM); \\tWe need enabled; disabled & hover icons for the following actions:; \\t\\tCopyToClipboardActionDelegate; \\t\\tRelaunchActionDelegate; \\t\\tTerminateAndRemoveActionDelegate; ...   \n",
              "1  JGS (6/4/01 11:43:47 AM); \\tSet a breakpoint in InfiniteLoop with a hit count.  When suspended;; \\tright click breakpoint in Breakpoints viewer and enable.  Hit count; \\tstays at previous value.  ...   \n",
              "2                                         DW (2/26/01 5:56:36 PM); \\tCould allow users to use styled text in console; with preference support. This would; \\tallow console input to be shown in bold; etc.   \n",
              "\n",
              "     Status  Resolution Version               Created_time  \\\n",
              "0  VERIFIED       FIXED     2.0  2001-10-10 22:14:00 -0400   \n",
              "1  RESOLVED  WORKSFORME     2.0  2001-10-10 22:14:00 -0400   \n",
              "2    CLOSED     WONTFIX     2.0  2001-10-10 22:14:00 -0400   \n",
              "\n",
              "               Resolved_time  \n",
              "0  2001-10-18 11:51:14 -0400  \n",
              "1  2001-11-28 13:42:46 -0500  \n",
              "2  2002-06-26 11:32:05 -0400  "
            ],
            "text/html": [
              "\n",
              "  <div id=\"df-ec95cf01-9dfb-4574-ad93-1954115cd4ad\" class=\"colab-df-container\">\n",
              "    <div>\n",
              "<style scoped>\n",
              "    .dataframe tbody tr th:only-of-type {\n",
              "        vertical-align: middle;\n",
              "    }\n",
              "\n",
              "    .dataframe tbody tr th {\n",
              "        vertical-align: top;\n",
              "    }\n",
              "\n",
              "    .dataframe thead th {\n",
              "        text-align: right;\n",
              "    }\n",
              "</style>\n",
              "<table border=\"1\" class=\"dataframe tex2jax_ignore\">\n",
              "  <thead>\n",
              "    <tr style=\"text-align: right;\">\n",
              "      <th></th>\n",
              "      <th>Issue_id</th>\n",
              "      <th>Priority</th>\n",
              "      <th>Component</th>\n",
              "      <th>Duplicated_issue</th>\n",
              "      <th>Title</th>\n",
              "      <th>Description</th>\n",
              "      <th>Status</th>\n",
              "      <th>Resolution</th>\n",
              "      <th>Version</th>\n",
              "      <th>Created_time</th>\n",
              "      <th>Resolved_time</th>\n",
              "    </tr>\n",
              "  </thead>\n",
              "  <tbody>\n",
              "    <tr>\n",
              "      <th>0</th>\n",
              "      <td>1518</td>\n",
              "      <td>else</td>\n",
              "      <td>Debug</td>\n",
              "      <td>NaN</td>\n",
              "      <td>Icons needed for actions (1GI5UXW)</td>\n",
              "      <td>JGS (8/8/01 5:20:19 PM); \\tWe need enabled; disabled &amp; hover icons for the following actions:; \\t\\tCopyToClipboardActionDelegate; \\t\\tRelaunchActionDelegate; \\t\\tTerminateAndRemoveActionDelegate; ...</td>\n",
              "      <td>VERIFIED</td>\n",
              "      <td>FIXED</td>\n",
              "      <td>2.0</td>\n",
              "      <td>2001-10-10 22:14:00 -0400</td>\n",
              "      <td>2001-10-18 11:51:14 -0400</td>\n",
              "    </tr>\n",
              "    <tr>\n",
              "      <th>1</th>\n",
              "      <td>1519</td>\n",
              "      <td>P3</td>\n",
              "      <td>Debug</td>\n",
              "      <td>NaN</td>\n",
              "      <td>README: Hit count not reset (1GET20Y)</td>\n",
              "      <td>JGS (6/4/01 11:43:47 AM); \\tSet a breakpoint in InfiniteLoop with a hit count.  When suspended;; \\tright click breakpoint in Breakpoints viewer and enable.  Hit count; \\tstays at previous value.  ...</td>\n",
              "      <td>RESOLVED</td>\n",
              "      <td>WORKSFORME</td>\n",
              "      <td>2.0</td>\n",
              "      <td>2001-10-10 22:14:00 -0400</td>\n",
              "      <td>2001-11-28 13:42:46 -0500</td>\n",
              "    </tr>\n",
              "    <tr>\n",
              "      <th>2</th>\n",
              "      <td>1520</td>\n",
              "      <td>P3</td>\n",
              "      <td>Debug</td>\n",
              "      <td>NaN</td>\n",
              "      <td>Use styled text in console (1G9S1YF)</td>\n",
              "      <td>DW (2/26/01 5:56:36 PM); \\tCould allow users to use styled text in console; with preference support. This would; \\tallow console input to be shown in bold; etc.</td>\n",
              "      <td>CLOSED</td>\n",
              "      <td>WONTFIX</td>\n",
              "      <td>2.0</td>\n",
              "      <td>2001-10-10 22:14:00 -0400</td>\n",
              "      <td>2002-06-26 11:32:05 -0400</td>\n",
              "    </tr>\n",
              "  </tbody>\n",
              "</table>\n",
              "</div>\n",
              "    <div class=\"colab-df-buttons\">\n",
              "\n",
              "  <div class=\"colab-df-container\">\n",
              "    <button class=\"colab-df-convert\" onclick=\"convertToInteractive('df-ec95cf01-9dfb-4574-ad93-1954115cd4ad')\"\n",
              "            title=\"Convert this dataframe to an interactive table.\"\n",
              "            style=\"display:none;\">\n",
              "\n",
              "  <svg xmlns=\"http://www.w3.org/2000/svg\" height=\"24px\" viewBox=\"0 -960 960 960\">\n",
              "    <path d=\"M120-120v-720h720v720H120Zm60-500h600v-160H180v160Zm220 220h160v-160H400v160Zm0 220h160v-160H400v160ZM180-400h160v-160H180v160Zm440 0h160v-160H620v160ZM180-180h160v-160H180v160Zm440 0h160v-160H620v160Z\"/>\n",
              "  </svg>\n",
              "    </button>\n",
              "\n",
              "  <style>\n",
              "    .colab-df-container {\n",
              "      display:flex;\n",
              "      gap: 12px;\n",
              "    }\n",
              "\n",
              "    .colab-df-convert {\n",
              "      background-color: #E8F0FE;\n",
              "      border: none;\n",
              "      border-radius: 50%;\n",
              "      cursor: pointer;\n",
              "      display: none;\n",
              "      fill: #1967D2;\n",
              "      height: 32px;\n",
              "      padding: 0 0 0 0;\n",
              "      width: 32px;\n",
              "    }\n",
              "\n",
              "    .colab-df-convert:hover {\n",
              "      background-color: #E2EBFA;\n",
              "      box-shadow: 0px 1px 2px rgba(60, 64, 67, 0.3), 0px 1px 3px 1px rgba(60, 64, 67, 0.15);\n",
              "      fill: #174EA6;\n",
              "    }\n",
              "\n",
              "    .colab-df-buttons div {\n",
              "      margin-bottom: 4px;\n",
              "    }\n",
              "\n",
              "    [theme=dark] .colab-df-convert {\n",
              "      background-color: #3B4455;\n",
              "      fill: #D2E3FC;\n",
              "    }\n",
              "\n",
              "    [theme=dark] .colab-df-convert:hover {\n",
              "      background-color: #434B5C;\n",
              "      box-shadow: 0px 1px 3px 1px rgba(0, 0, 0, 0.15);\n",
              "      filter: drop-shadow(0px 1px 2px rgba(0, 0, 0, 0.3));\n",
              "      fill: #FFFFFF;\n",
              "    }\n",
              "  </style>\n",
              "\n",
              "    <script>\n",
              "      const buttonEl =\n",
              "        document.querySelector('#df-ec95cf01-9dfb-4574-ad93-1954115cd4ad button.colab-df-convert');\n",
              "      buttonEl.style.display =\n",
              "        google.colab.kernel.accessAllowed ? 'block' : 'none';\n",
              "\n",
              "      async function convertToInteractive(key) {\n",
              "        const element = document.querySelector('#df-ec95cf01-9dfb-4574-ad93-1954115cd4ad');\n",
              "        const dataTable =\n",
              "          await google.colab.kernel.invokeFunction('convertToInteractive',\n",
              "                                                    [key], {});\n",
              "        if (!dataTable) return;\n",
              "\n",
              "        const docLinkHtml = 'Like what you see? Visit the ' +\n",
              "          '<a target=\"_blank\" href=https://colab.research.google.com/notebooks/data_table.ipynb>data table notebook</a>'\n",
              "          + ' to learn more about interactive tables.';\n",
              "        element.innerHTML = '';\n",
              "        dataTable['output_type'] = 'display_data';\n",
              "        await google.colab.output.renderOutput(dataTable, element);\n",
              "        const docLink = document.createElement('div');\n",
              "        docLink.innerHTML = docLinkHtml;\n",
              "        element.appendChild(docLink);\n",
              "      }\n",
              "    </script>\n",
              "  </div>\n",
              "\n",
              "\n",
              "<div id=\"df-54de7fff-fa6f-4093-9fad-3536c1da728a\">\n",
              "  <button class=\"colab-df-quickchart\" onclick=\"quickchart('df-54de7fff-fa6f-4093-9fad-3536c1da728a')\"\n",
              "            title=\"Suggest charts\"\n",
              "            style=\"display:none;\">\n",
              "\n",
              "<svg xmlns=\"http://www.w3.org/2000/svg\" height=\"24px\"viewBox=\"0 0 24 24\"\n",
              "     width=\"24px\">\n",
              "    <g>\n",
              "        <path d=\"M19 3H5c-1.1 0-2 .9-2 2v14c0 1.1.9 2 2 2h14c1.1 0 2-.9 2-2V5c0-1.1-.9-2-2-2zM9 17H7v-7h2v7zm4 0h-2V7h2v10zm4 0h-2v-4h2v4z\"/>\n",
              "    </g>\n",
              "</svg>\n",
              "  </button>\n",
              "\n",
              "<style>\n",
              "  .colab-df-quickchart {\n",
              "      --bg-color: #E8F0FE;\n",
              "      --fill-color: #1967D2;\n",
              "      --hover-bg-color: #E2EBFA;\n",
              "      --hover-fill-color: #174EA6;\n",
              "      --disabled-fill-color: #AAA;\n",
              "      --disabled-bg-color: #DDD;\n",
              "  }\n",
              "\n",
              "  [theme=dark] .colab-df-quickchart {\n",
              "      --bg-color: #3B4455;\n",
              "      --fill-color: #D2E3FC;\n",
              "      --hover-bg-color: #434B5C;\n",
              "      --hover-fill-color: #FFFFFF;\n",
              "      --disabled-bg-color: #3B4455;\n",
              "      --disabled-fill-color: #666;\n",
              "  }\n",
              "\n",
              "  .colab-df-quickchart {\n",
              "    background-color: var(--bg-color);\n",
              "    border: none;\n",
              "    border-radius: 50%;\n",
              "    cursor: pointer;\n",
              "    display: none;\n",
              "    fill: var(--fill-color);\n",
              "    height: 32px;\n",
              "    padding: 0;\n",
              "    width: 32px;\n",
              "  }\n",
              "\n",
              "  .colab-df-quickchart:hover {\n",
              "    background-color: var(--hover-bg-color);\n",
              "    box-shadow: 0 1px 2px rgba(60, 64, 67, 0.3), 0 1px 3px 1px rgba(60, 64, 67, 0.15);\n",
              "    fill: var(--button-hover-fill-color);\n",
              "  }\n",
              "\n",
              "  .colab-df-quickchart-complete:disabled,\n",
              "  .colab-df-quickchart-complete:disabled:hover {\n",
              "    background-color: var(--disabled-bg-color);\n",
              "    fill: var(--disabled-fill-color);\n",
              "    box-shadow: none;\n",
              "  }\n",
              "\n",
              "  .colab-df-spinner {\n",
              "    border: 2px solid var(--fill-color);\n",
              "    border-color: transparent;\n",
              "    border-bottom-color: var(--fill-color);\n",
              "    animation:\n",
              "      spin 1s steps(1) infinite;\n",
              "  }\n",
              "\n",
              "  @keyframes spin {\n",
              "    0% {\n",
              "      border-color: transparent;\n",
              "      border-bottom-color: var(--fill-color);\n",
              "      border-left-color: var(--fill-color);\n",
              "    }\n",
              "    20% {\n",
              "      border-color: transparent;\n",
              "      border-left-color: var(--fill-color);\n",
              "      border-top-color: var(--fill-color);\n",
              "    }\n",
              "    30% {\n",
              "      border-color: transparent;\n",
              "      border-left-color: var(--fill-color);\n",
              "      border-top-color: var(--fill-color);\n",
              "      border-right-color: var(--fill-color);\n",
              "    }\n",
              "    40% {\n",
              "      border-color: transparent;\n",
              "      border-right-color: var(--fill-color);\n",
              "      border-top-color: var(--fill-color);\n",
              "    }\n",
              "    60% {\n",
              "      border-color: transparent;\n",
              "      border-right-color: var(--fill-color);\n",
              "    }\n",
              "    80% {\n",
              "      border-color: transparent;\n",
              "      border-right-color: var(--fill-color);\n",
              "      border-bottom-color: var(--fill-color);\n",
              "    }\n",
              "    90% {\n",
              "      border-color: transparent;\n",
              "      border-bottom-color: var(--fill-color);\n",
              "    }\n",
              "  }\n",
              "</style>\n",
              "\n",
              "  <script>\n",
              "    async function quickchart(key) {\n",
              "      const quickchartButtonEl =\n",
              "        document.querySelector('#' + key + ' button');\n",
              "      quickchartButtonEl.disabled = true;  // To prevent multiple clicks.\n",
              "      quickchartButtonEl.classList.add('colab-df-spinner');\n",
              "      try {\n",
              "        const charts = await google.colab.kernel.invokeFunction(\n",
              "            'suggestCharts', [key], {});\n",
              "      } catch (error) {\n",
              "        console.error('Error during call to suggestCharts:', error);\n",
              "      }\n",
              "      quickchartButtonEl.classList.remove('colab-df-spinner');\n",
              "      quickchartButtonEl.classList.add('colab-df-quickchart-complete');\n",
              "    }\n",
              "    (() => {\n",
              "      let quickchartButtonEl =\n",
              "        document.querySelector('#df-54de7fff-fa6f-4093-9fad-3536c1da728a button');\n",
              "      quickchartButtonEl.style.display =\n",
              "        google.colab.kernel.accessAllowed ? 'block' : 'none';\n",
              "    })();\n",
              "  </script>\n",
              "</div>\n",
              "    </div>\n",
              "  </div>\n"
            ],
            "application/vnd.google.colaboratory.intrinsic+json": {
              "type": "dataframe",
              "variable_name": "df_java",
              "summary": "{\n  \"name\": \"df_java\",\n  \"rows\": 45296,\n  \"fields\": [\n    {\n      \"column\": \"Issue_id\",\n      \"properties\": {\n        \"dtype\": \"number\",\n        \"std\": 109016,\n        \"min\": 1518,\n        \"max\": 424785,\n        \"num_unique_values\": 45296,\n        \"samples\": [\n          239715,\n          395007,\n          409266\n        ],\n        \"semantic_type\": \"\",\n        \"description\": \"\"\n      }\n    },\n    {\n      \"column\": \"Priority\",\n      \"properties\": {\n        \"dtype\": \"category\",\n        \"num_unique_values\": 2,\n        \"samples\": [\n          \"P3\",\n          \"else\"\n        ],\n        \"semantic_type\": \"\",\n        \"description\": \"\"\n      }\n    },\n    {\n      \"column\": \"Component\",\n      \"properties\": {\n        \"dtype\": \"category\",\n        \"num_unique_values\": 6,\n        \"samples\": [\n          \"Debug\",\n          \"UI\"\n        ],\n        \"semantic_type\": \"\",\n        \"description\": \"\"\n      }\n    },\n    {\n      \"column\": \"Duplicated_issue\",\n      \"properties\": {\n        \"dtype\": \"number\",\n        \"std\": 94600.43170742437,\n        \"min\": 10.0,\n        \"max\": 424403.0,\n        \"num_unique_values\": 4894,\n        \"samples\": [\n          5585.0,\n          1708.0\n        ],\n        \"semantic_type\": \"\",\n        \"description\": \"\"\n      }\n    },\n    {\n      \"column\": \"Title\",\n      \"properties\": {\n        \"dtype\": \"string\",\n        \"num_unique_values\": 44811,\n        \"samples\": [\n          \"should be possible to generate class file outside project tree\",\n          \"JRE source setting - no warning if no source (1GEUCF2)\"\n        ],\n        \"semantic_type\": \"\",\n        \"description\": \"\"\n      }\n    },\n    {\n      \"column\": \"Description\",\n      \"properties\": {\n        \"dtype\": \"string\",\n        \"num_unique_values\": 44663,\n        \"samples\": [\n          \"If you set up your generated source directory to be an already-existing source; directory; we will remove everything inside that directory.; ; Need to prevent this; or at the very least offer a very stern warning in the UI.\",\n          \"build I20040611-0010; ; - load Text and UI loaded from head; except for org.eclipse.text; - built; - got some compile errors:; Severity\\tDescription\\tResource\\tIn Folder\\tLocation\\tCreation Time; 2\\tThe method computeUnprojectedMasterRegions(int; int) from the type; ProjectionDocument is not visible\\tProjectionViewer.java; org.eclipse.jface.text/projection/org/eclipse/jface/text/source/projection; line 183\\tJune 11; 2004 10:42:13 AM; 2\\tThe method computeProjectedMasterRegions(int; int) is undefined for the type; ProjectionDocument\\tProjectionViewer.java; org.eclipse.jface.text/projection/org/eclipse/jface/text/source/projection; line 191\\tJune 11; 2004 10:42:13 AM; ; - loaded org.eclipse.text from head; - Ctrl+B; - it did not fix up the errors; - touched ProjectionViewer; - Ctrl+B; - it appeared to do a full rebuild of org.eclipse.jface.text; ; Its as if the classpath change wasnt noticed earlier.\"\n        ],\n        \"semantic_type\": \"\",\n        \"description\": \"\"\n      }\n    },\n    {\n      \"column\": \"Status\",\n      \"properties\": {\n        \"dtype\": \"category\",\n        \"num_unique_values\": 3,\n        \"samples\": [\n          \"VERIFIED\",\n          \"RESOLVED\"\n        ],\n        \"semantic_type\": \"\",\n        \"description\": \"\"\n      }\n    },\n    {\n      \"column\": \"Resolution\",\n      \"properties\": {\n        \"dtype\": \"category\",\n        \"num_unique_values\": 7,\n        \"samples\": [\n          \"FIXED\",\n          \"WORKSFORME\"\n        ],\n        \"semantic_type\": \"\",\n        \"description\": \"\"\n      }\n    },\n    {\n      \"column\": \"Version\",\n      \"properties\": {\n        \"dtype\": \"category\",\n        \"num_unique_values\": 40,\n        \"samples\": [\n          \"3.4\",\n          \"3.2.2\"\n        ],\n        \"semantic_type\": \"\",\n        \"description\": \"\"\n      }\n    },\n    {\n      \"column\": \"Created_time\",\n      \"properties\": {\n        \"dtype\": \"object\",\n        \"num_unique_values\": 43239,\n        \"samples\": [\n          \"2004-12-10 04:44:00 -0500\",\n          \"2004-01-25 02:10:00 -0500\"\n        ],\n        \"semantic_type\": \"\",\n        \"description\": \"\"\n      }\n    },\n    {\n      \"column\": \"Resolved_time\",\n      \"properties\": {\n        \"dtype\": \"object\",\n        \"num_unique_values\": 42754,\n        \"samples\": [\n          \"2002-06-03 08:48:09 -0400\",\n          \"2010-04-29 11:51:32 -0400\"\n        ],\n        \"semantic_type\": \"\",\n        \"description\": \"\"\n      }\n    }\n  ]\n}"
            }
          },
          "metadata": {},
          "execution_count": 8
        }
      ],
      "source": [
        "# Change priority variable into a binary variable 'P3' vs 'else'\n",
        "df_java[\"Priority\"] = df_java[\"Priority\"].apply(lambda x: \"P3\" if x == \"P3\" else \"else\")\n",
        "df_java.head(3)"
      ]
    },
    {
      "cell_type": "code",
      "execution_count": null,
      "metadata": {
        "colab": {
          "base_uri": "https://localhost:8080/"
        },
        "id": "BNFaiuNc8qd9",
        "outputId": "637262c1-40f1-469c-b7de-ee61371847d6"
      },
      "outputs": [
        {
          "name": "stdout",
          "output_type": "stream",
          "text": [
            "<class 'pandas.core.frame.DataFrame'>\n",
            "RangeIndex: 45296 entries, 0 to 45295\n",
            "Data columns (total 10 columns):\n",
            " #   Column         Non-Null Count  Dtype \n",
            "---  ------         --------------  ----- \n",
            " 0   Issue_id       45296 non-null  int64 \n",
            " 1   Priority       45296 non-null  object\n",
            " 2   Component      45296 non-null  object\n",
            " 3   Title          45296 non-null  object\n",
            " 4   Description    45253 non-null  object\n",
            " 5   Status         45296 non-null  object\n",
            " 6   Resolution     45296 non-null  object\n",
            " 7   Version        45296 non-null  object\n",
            " 8   Created_time   45296 non-null  object\n",
            " 9   Resolved_time  45296 non-null  object\n",
            "dtypes: int64(1), object(9)\n",
            "memory usage: 3.5+ MB\n"
          ]
        }
      ],
      "source": [
        "df_java.info()"
      ]
    },
    {
      "cell_type": "code",
      "execution_count": null,
      "metadata": {
        "colab": {
          "base_uri": "https://localhost:8080/"
        },
        "id": "nzOZnGae83W_",
        "outputId": "4d31d430-8d6f-4dc7-d67a-5e5706712bc6"
      },
      "outputs": [
        {
          "output_type": "execute_result",
          "data": {
            "text/plain": [
              "P3     0.88\n",
              "else   0.12\n",
              "Name: Priority, dtype: float64"
            ]
          },
          "metadata": {},
          "execution_count": 10
        }
      ],
      "source": [
        "# The dataset is highly imbalanced with 88% of priority level P3\n",
        "df_java[\"Priority\"].value_counts(normalize = True)"
      ]
    },
    {
      "cell_type": "code",
      "execution_count": null,
      "metadata": {
        "colab": {
          "base_uri": "https://localhost:8080/"
        },
        "id": "M2FExY8tBf4E",
        "outputId": "b2072506-400e-4a73-82fc-4ee434ba8093"
      },
      "outputs": [
        {
          "output_type": "stream",
          "name": "stdout",
          "text": [
            "<class 'pandas.core.frame.DataFrame'>\n",
            "Int64Index: 45253 entries, 0 to 45295\n",
            "Data columns (total 2 columns):\n",
            " #   Column    Non-Null Count  Dtype \n",
            "---  ------    --------------  ----- \n",
            " 0   Priority  45253 non-null  object\n",
            " 1   Text      45253 non-null  object\n",
            "dtypes: object(2)\n",
            "memory usage: 2.0+ MB\n"
          ]
        }
      ],
      "source": [
        "# Concatenate Title and Description into Text column, and only keep Text and Priority columns\n",
        "java = df_java[[\"Title\", \"Description\", \"Priority\"]]\n",
        "java = java.dropna()\n",
        "java[\"Text\"] = df_java[\"Title\"] + ' ' + java[\"Description\"]\n",
        "java = java.drop(columns = [\"Title\", \"Description\"])\n",
        "java.info()"
      ]
    },
    {
      "cell_type": "code",
      "execution_count": null,
      "metadata": {
        "colab": {
          "base_uri": "https://localhost:8080/",
          "height": 196
        },
        "id": "0T6VFv3LB7eq",
        "outputId": "b376b4a0-c8be-446e-a337-f8c0e975737a"
      },
      "outputs": [
        {
          "data": {
            "application/vnd.google.colaboratory.intrinsic+json": {
              "summary": "{\n  \"name\": \"java\",\n  \"rows\": 45253,\n  \"fields\": [\n    {\n      \"column\": \"Priority\",\n      \"properties\": {\n        \"dtype\": \"category\",\n        \"num_unique_values\": 2,\n        \"samples\": [\n          \"P3\",\n          \"else\"\n        ],\n        \"semantic_type\": \"\",\n        \"description\": \"\"\n      }\n    },\n    {\n      \"column\": \"Text\",\n      \"properties\": {\n        \"dtype\": \"string\",\n        \"num_unique_values\": 45060,\n        \"samples\": [\n          \"Type Hierarchy: Selection in upperview not propagated to editor (1GJMR5I) We had this PR already ones and it seems to be back:; \\tUnder some circumstances when I single selecting (an already opened; \\tCU) in the upper part of the type hierarchy; the element is not selected; \\tin the editor.; ; \\tTest Case:; \\t1. open the type hierarchy; \\t2. open two different CUs (via type hierarchy); \\t3. select a method from CU 1\\t(in upper part of TH); \\t4. select a method from CU 2 (in upper part of TH); \\t==>selection in editor works; \\tnow: LOCK the view; \\t==> selection in upper part is no longer propagated; ; ; NOTES:; MA (19.09.2001 12:24:06); \\tfixed > 200\",\n          \"[1.5][select][enum] Code resolve on enum in switch 20050216; ; code resolve on the enum contants A in the switch statement does not work; ; public enum MyEnum {; \\tA;; }; ; class B {; \\tprivate void foo(MyEnum e) {; \\t\\tswitch (e) {;  \\t\\t   case A:; \\t\\t   break;; \\t\\t}; \\t\\t; \\t}; }\"\n        ],\n        \"semantic_type\": \"\",\n        \"description\": \"\"\n      }\n    }\n  ]\n}",
              "type": "dataframe",
              "variable_name": "java"
            },
            "text/html": [
              "\n",
              "  <div id=\"df-993d1941-7e50-4439-99cf-6a319167bbd9\" class=\"colab-df-container\">\n",
              "    <div>\n",
              "<style scoped>\n",
              "    .dataframe tbody tr th:only-of-type {\n",
              "        vertical-align: middle;\n",
              "    }\n",
              "\n",
              "    .dataframe tbody tr th {\n",
              "        vertical-align: top;\n",
              "    }\n",
              "\n",
              "    .dataframe thead th {\n",
              "        text-align: right;\n",
              "    }\n",
              "</style>\n",
              "<table border=\"1\" class=\"dataframe tex2jax_ignore\">\n",
              "  <thead>\n",
              "    <tr style=\"text-align: right;\">\n",
              "      <th></th>\n",
              "      <th>Priority</th>\n",
              "      <th>Text</th>\n",
              "    </tr>\n",
              "  </thead>\n",
              "  <tbody>\n",
              "    <tr>\n",
              "      <th>0</th>\n",
              "      <td>else</td>\n",
              "      <td>Icons needed for actions (1GI5UXW) JGS (8/8/01 5:20:19 PM); \\tWe need enabled; disabled &amp; hover icons for the following actions:; \\t\\tCopyToClipboardActionDelegate; \\t\\tRelaunchActionDelegate; \\t\\...</td>\n",
              "    </tr>\n",
              "    <tr>\n",
              "      <th>1</th>\n",
              "      <td>P3</td>\n",
              "      <td>README: Hit count not reset (1GET20Y) JGS (6/4/01 11:43:47 AM); \\tSet a breakpoint in InfiniteLoop with a hit count.  When suspended;; \\tright click breakpoint in Breakpoints viewer and enable.  H...</td>\n",
              "    </tr>\n",
              "    <tr>\n",
              "      <th>2</th>\n",
              "      <td>P3</td>\n",
              "      <td>Use styled text in console (1G9S1YF) DW (2/26/01 5:56:36 PM); \\tCould allow users to use styled text in console; with preference support. This would; \\tallow console input to be shown in bold; etc.</td>\n",
              "    </tr>\n",
              "  </tbody>\n",
              "</table>\n",
              "</div>\n",
              "    <div class=\"colab-df-buttons\">\n",
              "\n",
              "  <div class=\"colab-df-container\">\n",
              "    <button class=\"colab-df-convert\" onclick=\"convertToInteractive('df-993d1941-7e50-4439-99cf-6a319167bbd9')\"\n",
              "            title=\"Convert this dataframe to an interactive table.\"\n",
              "            style=\"display:none;\">\n",
              "\n",
              "  <svg xmlns=\"http://www.w3.org/2000/svg\" height=\"24px\" viewBox=\"0 -960 960 960\">\n",
              "    <path d=\"M120-120v-720h720v720H120Zm60-500h600v-160H180v160Zm220 220h160v-160H400v160Zm0 220h160v-160H400v160ZM180-400h160v-160H180v160Zm440 0h160v-160H620v160ZM180-180h160v-160H180v160Zm440 0h160v-160H620v160Z\"/>\n",
              "  </svg>\n",
              "    </button>\n",
              "\n",
              "  <style>\n",
              "    .colab-df-container {\n",
              "      display:flex;\n",
              "      gap: 12px;\n",
              "    }\n",
              "\n",
              "    .colab-df-convert {\n",
              "      background-color: #E8F0FE;\n",
              "      border: none;\n",
              "      border-radius: 50%;\n",
              "      cursor: pointer;\n",
              "      display: none;\n",
              "      fill: #1967D2;\n",
              "      height: 32px;\n",
              "      padding: 0 0 0 0;\n",
              "      width: 32px;\n",
              "    }\n",
              "\n",
              "    .colab-df-convert:hover {\n",
              "      background-color: #E2EBFA;\n",
              "      box-shadow: 0px 1px 2px rgba(60, 64, 67, 0.3), 0px 1px 3px 1px rgba(60, 64, 67, 0.15);\n",
              "      fill: #174EA6;\n",
              "    }\n",
              "\n",
              "    .colab-df-buttons div {\n",
              "      margin-bottom: 4px;\n",
              "    }\n",
              "\n",
              "    [theme=dark] .colab-df-convert {\n",
              "      background-color: #3B4455;\n",
              "      fill: #D2E3FC;\n",
              "    }\n",
              "\n",
              "    [theme=dark] .colab-df-convert:hover {\n",
              "      background-color: #434B5C;\n",
              "      box-shadow: 0px 1px 3px 1px rgba(0, 0, 0, 0.15);\n",
              "      filter: drop-shadow(0px 1px 2px rgba(0, 0, 0, 0.3));\n",
              "      fill: #FFFFFF;\n",
              "    }\n",
              "  </style>\n",
              "\n",
              "    <script>\n",
              "      const buttonEl =\n",
              "        document.querySelector('#df-993d1941-7e50-4439-99cf-6a319167bbd9 button.colab-df-convert');\n",
              "      buttonEl.style.display =\n",
              "        google.colab.kernel.accessAllowed ? 'block' : 'none';\n",
              "\n",
              "      async function convertToInteractive(key) {\n",
              "        const element = document.querySelector('#df-993d1941-7e50-4439-99cf-6a319167bbd9');\n",
              "        const dataTable =\n",
              "          await google.colab.kernel.invokeFunction('convertToInteractive',\n",
              "                                                    [key], {});\n",
              "        if (!dataTable) return;\n",
              "\n",
              "        const docLinkHtml = 'Like what you see? Visit the ' +\n",
              "          '<a target=\"_blank\" href=https://colab.research.google.com/notebooks/data_table.ipynb>data table notebook</a>'\n",
              "          + ' to learn more about interactive tables.';\n",
              "        element.innerHTML = '';\n",
              "        dataTable['output_type'] = 'display_data';\n",
              "        await google.colab.output.renderOutput(dataTable, element);\n",
              "        const docLink = document.createElement('div');\n",
              "        docLink.innerHTML = docLinkHtml;\n",
              "        element.appendChild(docLink);\n",
              "      }\n",
              "    </script>\n",
              "  </div>\n",
              "\n",
              "\n",
              "<div id=\"df-e1df3e17-4ca2-42e1-bba8-6c68f7b33233\">\n",
              "  <button class=\"colab-df-quickchart\" onclick=\"quickchart('df-e1df3e17-4ca2-42e1-bba8-6c68f7b33233')\"\n",
              "            title=\"Suggest charts\"\n",
              "            style=\"display:none;\">\n",
              "\n",
              "<svg xmlns=\"http://www.w3.org/2000/svg\" height=\"24px\"viewBox=\"0 0 24 24\"\n",
              "     width=\"24px\">\n",
              "    <g>\n",
              "        <path d=\"M19 3H5c-1.1 0-2 .9-2 2v14c0 1.1.9 2 2 2h14c1.1 0 2-.9 2-2V5c0-1.1-.9-2-2-2zM9 17H7v-7h2v7zm4 0h-2V7h2v10zm4 0h-2v-4h2v4z\"/>\n",
              "    </g>\n",
              "</svg>\n",
              "  </button>\n",
              "\n",
              "<style>\n",
              "  .colab-df-quickchart {\n",
              "      --bg-color: #E8F0FE;\n",
              "      --fill-color: #1967D2;\n",
              "      --hover-bg-color: #E2EBFA;\n",
              "      --hover-fill-color: #174EA6;\n",
              "      --disabled-fill-color: #AAA;\n",
              "      --disabled-bg-color: #DDD;\n",
              "  }\n",
              "\n",
              "  [theme=dark] .colab-df-quickchart {\n",
              "      --bg-color: #3B4455;\n",
              "      --fill-color: #D2E3FC;\n",
              "      --hover-bg-color: #434B5C;\n",
              "      --hover-fill-color: #FFFFFF;\n",
              "      --disabled-bg-color: #3B4455;\n",
              "      --disabled-fill-color: #666;\n",
              "  }\n",
              "\n",
              "  .colab-df-quickchart {\n",
              "    background-color: var(--bg-color);\n",
              "    border: none;\n",
              "    border-radius: 50%;\n",
              "    cursor: pointer;\n",
              "    display: none;\n",
              "    fill: var(--fill-color);\n",
              "    height: 32px;\n",
              "    padding: 0;\n",
              "    width: 32px;\n",
              "  }\n",
              "\n",
              "  .colab-df-quickchart:hover {\n",
              "    background-color: var(--hover-bg-color);\n",
              "    box-shadow: 0 1px 2px rgba(60, 64, 67, 0.3), 0 1px 3px 1px rgba(60, 64, 67, 0.15);\n",
              "    fill: var(--button-hover-fill-color);\n",
              "  }\n",
              "\n",
              "  .colab-df-quickchart-complete:disabled,\n",
              "  .colab-df-quickchart-complete:disabled:hover {\n",
              "    background-color: var(--disabled-bg-color);\n",
              "    fill: var(--disabled-fill-color);\n",
              "    box-shadow: none;\n",
              "  }\n",
              "\n",
              "  .colab-df-spinner {\n",
              "    border: 2px solid var(--fill-color);\n",
              "    border-color: transparent;\n",
              "    border-bottom-color: var(--fill-color);\n",
              "    animation:\n",
              "      spin 1s steps(1) infinite;\n",
              "  }\n",
              "\n",
              "  @keyframes spin {\n",
              "    0% {\n",
              "      border-color: transparent;\n",
              "      border-bottom-color: var(--fill-color);\n",
              "      border-left-color: var(--fill-color);\n",
              "    }\n",
              "    20% {\n",
              "      border-color: transparent;\n",
              "      border-left-color: var(--fill-color);\n",
              "      border-top-color: var(--fill-color);\n",
              "    }\n",
              "    30% {\n",
              "      border-color: transparent;\n",
              "      border-left-color: var(--fill-color);\n",
              "      border-top-color: var(--fill-color);\n",
              "      border-right-color: var(--fill-color);\n",
              "    }\n",
              "    40% {\n",
              "      border-color: transparent;\n",
              "      border-right-color: var(--fill-color);\n",
              "      border-top-color: var(--fill-color);\n",
              "    }\n",
              "    60% {\n",
              "      border-color: transparent;\n",
              "      border-right-color: var(--fill-color);\n",
              "    }\n",
              "    80% {\n",
              "      border-color: transparent;\n",
              "      border-right-color: var(--fill-color);\n",
              "      border-bottom-color: var(--fill-color);\n",
              "    }\n",
              "    90% {\n",
              "      border-color: transparent;\n",
              "      border-bottom-color: var(--fill-color);\n",
              "    }\n",
              "  }\n",
              "</style>\n",
              "\n",
              "  <script>\n",
              "    async function quickchart(key) {\n",
              "      const quickchartButtonEl =\n",
              "        document.querySelector('#' + key + ' button');\n",
              "      quickchartButtonEl.disabled = true;  // To prevent multiple clicks.\n",
              "      quickchartButtonEl.classList.add('colab-df-spinner');\n",
              "      try {\n",
              "        const charts = await google.colab.kernel.invokeFunction(\n",
              "            'suggestCharts', [key], {});\n",
              "      } catch (error) {\n",
              "        console.error('Error during call to suggestCharts:', error);\n",
              "      }\n",
              "      quickchartButtonEl.classList.remove('colab-df-spinner');\n",
              "      quickchartButtonEl.classList.add('colab-df-quickchart-complete');\n",
              "    }\n",
              "    (() => {\n",
              "      let quickchartButtonEl =\n",
              "        document.querySelector('#df-e1df3e17-4ca2-42e1-bba8-6c68f7b33233 button');\n",
              "      quickchartButtonEl.style.display =\n",
              "        google.colab.kernel.accessAllowed ? 'block' : 'none';\n",
              "    })();\n",
              "  </script>\n",
              "</div>\n",
              "    </div>\n",
              "  </div>\n"
            ],
            "text/plain": [
              "  Priority  \\\n",
              "0     else   \n",
              "1       P3   \n",
              "2       P3   \n",
              "\n",
              "                                                                                                                                                                                                      Text  \n",
              "0  Icons needed for actions (1GI5UXW) JGS (8/8/01 5:20:19 PM); \\tWe need enabled; disabled & hover icons for the following actions:; \\t\\tCopyToClipboardActionDelegate; \\t\\tRelaunchActionDelegate; \\t\\...  \n",
              "1  README: Hit count not reset (1GET20Y) JGS (6/4/01 11:43:47 AM); \\tSet a breakpoint in InfiniteLoop with a hit count.  When suspended;; \\tright click breakpoint in Breakpoints viewer and enable.  H...  \n",
              "2    Use styled text in console (1G9S1YF) DW (2/26/01 5:56:36 PM); \\tCould allow users to use styled text in console; with preference support. This would; \\tallow console input to be shown in bold; etc.  "
            ]
          },
          "execution_count": 13,
          "metadata": {},
          "output_type": "execute_result"
        }
      ],
      "source": [
        "java.head(3)"
      ]
    },
    {
      "cell_type": "code",
      "execution_count": null,
      "metadata": {
        "colab": {
          "base_uri": "https://localhost:8080/",
          "height": 385
        },
        "id": "RrjAxB0sCHHf",
        "outputId": "24c1473a-15d8-4054-bce8-7b4cbc41172d"
      },
      "outputs": [
        {
          "output_type": "error",
          "ename": "ModuleNotFoundError",
          "evalue": "No module named 'packages.preparation'",
          "traceback": [
            "\u001b[0;31m---------------------------------------------------------------------------\u001b[0m",
            "\u001b[0;31mModuleNotFoundError\u001b[0m                       Traceback (most recent call last)",
            "\u001b[0;32m<ipython-input-3-1c068055ad46>\u001b[0m in \u001b[0;36m<cell line: 3>\u001b[0;34m()\u001b[0m\n\u001b[1;32m      1\u001b[0m \u001b[0;31m# Clean java with the function from the preparation module and select only clean text with more than 20 characters\u001b[0m\u001b[0;34m\u001b[0m\u001b[0;34m\u001b[0m\u001b[0m\n\u001b[1;32m      2\u001b[0m \u001b[0;34m\u001b[0m\u001b[0m\n\u001b[0;32m----> 3\u001b[0;31m \u001b[0;32mfrom\u001b[0m \u001b[0mpackages\u001b[0m\u001b[0;34m.\u001b[0m\u001b[0mpreparation\u001b[0m \u001b[0;32mimport\u001b[0m \u001b[0mclean\u001b[0m\u001b[0;34m\u001b[0m\u001b[0;34m\u001b[0m\u001b[0m\n\u001b[0m\u001b[1;32m      4\u001b[0m \u001b[0;34m\u001b[0m\u001b[0m\n\u001b[1;32m      5\u001b[0m \u001b[0mjava\u001b[0m\u001b[0;34m[\u001b[0m\u001b[0;34m\"Text\"\u001b[0m\u001b[0;34m]\u001b[0m \u001b[0;34m=\u001b[0m \u001b[0mjava\u001b[0m\u001b[0;34m[\u001b[0m\u001b[0;34m\"Text\"\u001b[0m\u001b[0;34m]\u001b[0m\u001b[0;34m.\u001b[0m\u001b[0mapply\u001b[0m\u001b[0;34m(\u001b[0m\u001b[0mclean\u001b[0m\u001b[0;34m)\u001b[0m\u001b[0;34m\u001b[0m\u001b[0;34m\u001b[0m\u001b[0m\n",
            "\u001b[0;31mModuleNotFoundError\u001b[0m: No module named 'packages.preparation'",
            "",
            "\u001b[0;31m---------------------------------------------------------------------------\u001b[0;32m\nNOTE: If your import is failing due to a missing package, you can\nmanually install dependencies using either !pip or !apt.\n\nTo view examples of installing some common dependencies, click the\n\"Open Examples\" button below.\n\u001b[0;31m---------------------------------------------------------------------------\u001b[0m\n"
          ],
          "errorDetails": {
            "actions": [
              {
                "action": "open_url",
                "actionText": "Open Examples",
                "url": "/notebooks/snippets/importing_libraries.ipynb"
              }
            ]
          }
        }
      ],
      "source": [
        "# Clean java with the function from the preparation module and select only clean text with more than 20 characters\n",
        "\n",
        "from packages.preparation import clean\n",
        "\n",
        "java[\"Text\"] = java[\"Text\"].apply(clean)\n",
        "java = java[java[\"Text\"].str.len() > 20]\n",
        "java.head(3)"
      ]
    },
    {
      "cell_type": "code",
      "execution_count": null,
      "metadata": {
        "colab": {
          "base_uri": "https://localhost:8080/"
        },
        "id": "nUWGnRSp7mv0",
        "outputId": "52ef6475-f9ab-4da4-cf17-15571a03a907"
      },
      "outputs": [
        {
          "name": "stdout",
          "output_type": "stream",
          "text": [
            "Train data: 36178\n",
            "Test data: 9045\n"
          ]
        }
      ],
      "source": [
        "# Split dataset into test and training samples\n",
        "java_X_train, java_X_test, java_Y_train, java_Y_test = train_test_split(java[\"Text\"],\n",
        "                                                                        java[\"Priority\"],\n",
        "                                                                        test_size = 0.2, # We use 80% as training and 20% as test sets\n",
        "                                                                        random_state = 1,\n",
        "                                                                        stratify = java[\"Priority\"]) # We stratify to keep the original class distribution in the training and test samples\n",
        "print(\"Train data:\", java_X_train.shape[0])\n",
        "print(\"Test data:\", java_X_test.shape[0])"
      ]
    },
    {
      "cell_type": "markdown",
      "metadata": {
        "id": "73ZVSDxT-Fn-"
      },
      "source": [
        "##**Step 2: Vectorization**"
      ]
    },
    {
      "cell_type": "code",
      "execution_count": null,
      "metadata": {
        "id": "BM3z_07AE3H_"
      },
      "outputs": [],
      "source": [
        "# Vectorize java_X_train as a bag of words with TFIDF, keep tokens with document frequency of 10+, include bigrams, use english stopwords\n",
        "# Use TFIDF to take into account word frequency in each text and in the entire dataset\n",
        "tfidf = TfidfVectorizer(min_df = 10, ngram_range = (1, 2), stop_words = \"english\")\n",
        "java_X_train_tf = tfidf.fit_transform(java_X_train)"
      ]
    },
    {
      "cell_type": "markdown",
      "metadata": {
        "id": "z5IMP1qiFqtG"
      },
      "source": [
        "##**Step 3: Build reference results**"
      ]
    },
    {
      "cell_type": "code",
      "execution_count": null,
      "metadata": {
        "id": "1Bm0Wrkg3XZX"
      },
      "outputs": [],
      "source": [
        "# Also vectorize the test set\n",
        "java_X_test_tf = tfidf.transform(java_X_test)"
      ]
    },
    {
      "cell_type": "code",
      "execution_count": null,
      "metadata": {
        "id": "pr-TImBiFwpE"
      },
      "outputs": [],
      "source": [
        "# Trivial classifier (always predicts the majority class)\n",
        "trivial = DummyClassifier(strategy = \"most_frequent\", random_state = 1)\n",
        "trivial.fit(java_X_train_tf, java_Y_train)\n",
        "Y_pred_baseline = trivial.predict(java_X_test)"
      ]
    },
    {
      "cell_type": "code",
      "execution_count": null,
      "metadata": {
        "colab": {
          "base_uri": "https://localhost:8080/"
        },
        "id": "w7UejuiJ9-Dw",
        "outputId": "f031284e-a7d4-4cbb-9ff0-0c3906fe1e66"
      },
      "outputs": [
        {
          "name": "stdout",
          "output_type": "stream",
          "text": [
            "CPU times: user 28min 33s, sys: 1.6 s, total: 28min 35s\n",
            "Wall time: 28min 36s\n"
          ]
        }
      ],
      "source": [
        "# K-Nearest Neighbor\n",
        "%%time\n",
        "knn = KNeighborsClassifier(n_neighbors = 5, metric = \"euclidean\")\n",
        "knn.fit(java_X_train_tf, java_Y_train)\n",
        "y_pred_knn = knn.predict(java_X_test_tf)"
      ]
    },
    {
      "cell_type": "code",
      "execution_count": null,
      "metadata": {
        "colab": {
          "base_uri": "https://localhost:8080/"
        },
        "id": "tRuak9OgedE7",
        "outputId": "38206698-52cf-420e-ef68-9d5d34b40fd1"
      },
      "outputs": [
        {
          "name": "stdout",
          "output_type": "stream",
          "text": [
            "CPU times: user 22min 34s, sys: 1.76 s, total: 22min 36s\n",
            "Wall time: 22min 36s\n"
          ]
        }
      ],
      "source": [
        "# Support Vector Machine\n",
        "%%time\n",
        "svm = SVC()\n",
        "svm.fit(java_X_train_tf, java_Y_train)\n",
        "y_pred_svm = svm.predict(java_X_test_tf)"
      ]
    },
    {
      "cell_type": "code",
      "execution_count": null,
      "metadata": {
        "colab": {
          "base_uri": "https://localhost:8080/"
        },
        "id": "--rS6IzAeDYF",
        "outputId": "02d662fa-be17-4bb1-f03f-3358737cac96"
      },
      "outputs": [
        {
          "name": "stdout",
          "output_type": "stream",
          "text": [
            "CPU times: user 132 ms, sys: 118 ms, total: 249 ms\n",
            "Wall time: 3.09 s\n"
          ]
        }
      ],
      "source": [
        "# Logistic Regression\n",
        "%%time\n",
        "logistic_regression = LogisticRegression(n_jobs = -1)\n",
        "logistic_regression.fit(java_X_train_tf, java_Y_train)\n",
        "y_pred_logistic_regression = logistic_regression.predict(java_X_test_tf)"
      ]
    },
    {
      "cell_type": "code",
      "execution_count": null,
      "metadata": {
        "colab": {
          "base_uri": "https://localhost:8080/"
        },
        "id": "WTq3jANreHmI",
        "outputId": "1046eee0-dc96-4c10-fe4f-eb0a7cc05a24"
      },
      "outputs": [
        {
          "name": "stdout",
          "output_type": "stream",
          "text": [
            "CPU times: user 1min 51s, sys: 403 ms, total: 1min 51s\n",
            "Wall time: 1min 3s\n"
          ]
        }
      ],
      "source": [
        "# Random Forest\n",
        "%%time\n",
        "random_forest = RandomForestClassifier(random_state = 1, n_jobs = -1)\n",
        "random_forest.fit(java_X_train_tf, java_Y_train)\n",
        "y_pred_random_forest = random_forest.predict(java_X_test_tf)"
      ]
    },
    {
      "cell_type": "code",
      "execution_count": null,
      "metadata": {
        "colab": {
          "base_uri": "https://localhost:8080/"
        },
        "id": "RfPVp7RHejMy",
        "outputId": "ad9b8a6d-becf-4db6-d4ab-bcc34f52465d"
      },
      "outputs": [
        {
          "name": "stdout",
          "output_type": "stream",
          "text": [
            "CPU times: user 1min 34s, sys: 187 ms, total: 1min 35s\n",
            "Wall time: 1min 35s\n"
          ]
        }
      ],
      "source": [
        "# Gradient Boosting Classifier\n",
        "%%time\n",
        "gbm = GradientBoostingClassifier()\n",
        "gbm.fit(java_X_train_tf, java_Y_train)\n",
        "y_pred_gbm = gbm.predict(java_X_test_tf)"
      ]
    },
    {
      "cell_type": "code",
      "execution_count": null,
      "metadata": {
        "colab": {
          "base_uri": "https://localhost:8080/"
        },
        "id": "xkd_1FV56zpO",
        "outputId": "87a81557-9627-4281-fe0b-cb6329baf317"
      },
      "outputs": [
        {
          "name": "stdout",
          "output_type": "stream",
          "text": [
            "Accuracy Trivial Model:  0.8766169154228856\n",
            "Accuracy SVM:  0.8798231066887783\n",
            "Accuracy LogisticRegression:  0.8793808734107241\n",
            "Accuracy Random Forest:  0.8805970149253731\n",
            "Accuracy KNN:  0.8770591487009397\n",
            "Accuracy GBM:  0.8821448313985627\n"
          ]
        }
      ],
      "source": [
        "# Accuracy\n",
        "print(\"Accuracy Trivial Model: \", accuracy_score(java_Y_test ,Y_pred_baseline))\n",
        "print(\"Accuracy KNN: \", accuracy_score(java_Y_test ,y_pred_knn))\n",
        "print(\"Accuracy SVM: \", accuracy_score(java_Y_test ,y_pred_svm))\n",
        "print(\"Accuracy LogisticRegression: \", accuracy_score(java_Y_test ,y_pred_logistic_regression))\n",
        "print(\"Accuracy Random Forest: \", accuracy_score(java_Y_test ,y_pred_random_forest))\n",
        "print(\"Accuracy GBM: \", accuracy_score(java_Y_test, y_pred_gbm))"
      ]
    },
    {
      "cell_type": "code",
      "execution_count": null,
      "metadata": {
        "colab": {
          "base_uri": "https://localhost:8080/"
        },
        "id": "V9gXy7327vYW",
        "outputId": "80d3ef74-9f12-41f1-ccf5-3e084dae232f"
      },
      "outputs": [
        {
          "name": "stdout",
          "output_type": "stream",
          "text": [
            "F1-score Trivial Model:  0.9342523860021209\n",
            "F1-score SVM:  0.9356614382953538\n",
            "F1-score LogisticRegression:  0.935325152646867\n",
            "F1-score Random Forest:  0.9360644091877812\n",
            "F1-score KNN:  0.9341232227488151\n",
            "F1-score GBM:  0.936780927529356\n"
          ]
        }
      ],
      "source": [
        "# F1 score\n",
        "print(\"F1-score Trivial Model: \", f1_score(java_Y_test ,Y_pred_baseline, pos_label = \"P3\"))\n",
        "print(\"F1-score KNN: \", f1_score(java_Y_test ,y_pred_knn, pos_label = \"P3\"))\n",
        "print(\"F1-score SVM: \", f1_score(java_Y_test ,y_pred_svm, pos_label = \"P3\"))\n",
        "print(\"F1-score LogisticRegression: \", f1_score(java_Y_test ,y_pred_logistic_regression, pos_label = \"P3\"))\n",
        "print(\"F1-score Random Forest: \", f1_score(java_Y_test ,y_pred_random_forest, pos_label = \"P3\"))\n",
        "print(\"F1-score GBM: \", f1_score(java_Y_test ,y_pred_gbm, pos_label = \"P3\"))"
      ]
    },
    {
      "cell_type": "code",
      "execution_count": null,
      "metadata": {
        "colab": {
          "base_uri": "https://localhost:8080/"
        },
        "id": "VO5fyG4_9Zvc",
        "outputId": "f52a70b7-740b-4606-c242-51cd21669ba7"
      },
      "outputs": [
        {
          "name": "stdout",
          "output_type": "stream",
          "text": [
            "Cohen's kappa Trivial Model:  0.0\n",
            "Cohen's kappa SVM:  0.0752914169240626\n",
            "Cohen's kappa LogisticRegression:  0.08709770079054835\n",
            "Cohen's kappa Random Forest:  0.08300905501100841\n",
            "Cohen's kappa KNN:  0.06302976848226516\n",
            "Cohen's kappa GBM:  0.11193470627439162\n"
          ]
        }
      ],
      "source": [
        "# Cohen's Kappa\n",
        "print(\"Cohen's kappa Trivial Model: \", cohen_kappa_score(java_Y_test ,Y_pred_baseline))\n",
        "print(\"Cohen's kappa KNN: \", cohen_kappa_score(java_Y_test ,y_pred_knn))\n",
        "print(\"Cohen's kappa SVM: \", cohen_kappa_score(java_Y_test ,y_pred_svm))\n",
        "print(\"Cohen's kappa LogisticRegression: \", cohen_kappa_score(java_Y_test ,y_pred_logistic_regression))\n",
        "print(\"Cohen's kappa Random Forest: \", cohen_kappa_score(java_Y_test ,y_pred_random_forest))\n",
        "print(\"Cohen's kappa GBM: \", cohen_kappa_score(java_Y_test ,y_pred_gbm))"
      ]
    },
    {
      "cell_type": "code",
      "execution_count": null,
      "metadata": {
        "colab": {
          "base_uri": "https://localhost:8080/"
        },
        "id": "w1r2ywNY-brh",
        "outputId": "983433f3-9a88-42c4-af1d-867a07a200e1"
      },
      "outputs": [
        {
          "name": "stdout",
          "output_type": "stream",
          "text": [
            "ROC AUC Trivial Model:  0.5\n",
            "ROC AUC SVM:  0.5226170570262695\n",
            "ROC AUC LogisticRegression:  0.5265994776219594\n",
            "ROC AUC Random Forest:  0.5249833197043112\n",
            "ROC AUC KNN:  0.5191157205684319\n",
            "ROC AUC GBM:  0.5343354732932192\n"
          ]
        }
      ],
      "source": [
        "# ROC AUC\n",
        "label_encoder = LabelEncoder()\n",
        "encoded_java_Y_test = label_encoder.fit_transform(java_Y_test)\n",
        "encoded_Y_pred_baseline = label_encoder.fit_transform(Y_pred_baseline)\n",
        "encoded_Y_pred_svm = label_encoder.fit_transform(y_pred_svm)\n",
        "encoded_Y_pred_logistic_regression = label_encoder.fit_transform(y_pred_logistic_regression)\n",
        "encoded_Y_pred_random_forest = label_encoder.fit_transform(y_pred_random_forest)\n",
        "encoded_Y_pred_knn = label_encoder.fit_transform(y_pred_knn)\n",
        "encoded_Y_pred_gbm = label_encoder.fit_transform(y_pred_gbm)\n",
        "print(\"ROC AUC Trivial Model: \", roc_auc_score(encoded_java_Y_test, encoded_Y_pred_baseline))\n",
        "print(\"ROC AUC KNN: \", roc_auc_score(encoded_java_Y_test ,encoded_Y_pred_knn))\n",
        "print(\"ROC AUC SVM: \", roc_auc_score(encoded_java_Y_test ,encoded_Y_pred_svm))\n",
        "print(\"ROC AUC LogisticRegression: \", roc_auc_score(encoded_java_Y_test ,encoded_Y_pred_logistic_regression))\n",
        "print(\"ROC AUC Random Forest: \", roc_auc_score(encoded_java_Y_test ,encoded_Y_pred_random_forest))\n",
        "print(\"ROC AUC GBM: \", roc_auc_score(encoded_java_Y_test ,encoded_Y_pred_gbm))"
      ]
    },
    {
      "cell_type": "code",
      "execution_count": null,
      "metadata": {
        "colab": {
          "base_uri": "https://localhost:8080/"
        },
        "id": "aQfKb1eaBk-g",
        "outputId": "1d8cb65c-4e25-47fb-c951-9e8b93f532c6"
      },
      "outputs": [
        {
          "name": "stdout",
          "output_type": "stream",
          "text": [
            "PRC AUC Trivial Model:  0.12338308457711443\n",
            "PRC AUC SVM:  0.15048765970067995\n",
            "PRC AUC LogisticRegression:  0.15225243470308467\n",
            "PRC AUC Random Forest:  0.15489887088728052\n",
            "PRC AUC KNN:  0.14085331938644308\n",
            "PRC AUC GBM:  0.166919220143522\n"
          ]
        }
      ],
      "source": [
        "# PRC AUC\n",
        "print(\"PRC AUC Trivial Model: \", average_precision_score(encoded_java_Y_test, encoded_Y_pred_baseline))\n",
        "print(\"PRC AUC KNN: \", average_precision_score(encoded_java_Y_test ,encoded_Y_pred_knn))\n",
        "print(\"PRC AUC SVM: \", average_precision_score(encoded_java_Y_test ,encoded_Y_pred_svm))\n",
        "print(\"PRC AUC LogisticRegression: \", average_precision_score(encoded_java_Y_test ,encoded_Y_pred_logistic_regression))\n",
        "print(\"PRC AUC Random Forest: \", average_precision_score(encoded_java_Y_test ,encoded_Y_pred_random_forest))\n",
        "print(\"PRC AUC GBM: \", average_precision_score(encoded_java_Y_test ,encoded_Y_pred_gbm))"
      ]
    },
    {
      "cell_type": "code",
      "execution_count": null,
      "metadata": {
        "id": "0eq2XxSisiB8"
      },
      "outputs": [],
      "source": [
        "# Define a H-Measure function\n",
        "def h_measure(y_true, y_pred):\n",
        "  \"Calculate the H-measure given the predicted Y and the true value of Y\"\n",
        "  precision = precision_score(y_true, y_pred)\n",
        "  recall = recall_score (y_true, y_pred)\n",
        "  h = 2 * (precision * recall) / (precision + recall)\n",
        "  return h"
      ]
    },
    {
      "cell_type": "code",
      "execution_count": null,
      "metadata": {
        "colab": {
          "base_uri": "https://localhost:8080/",
          "height": 211
        },
        "id": "ELLzTmKICIu9",
        "outputId": "5b38d404-8c59-4e1d-8462-7094a722def9"
      },
      "outputs": [
        {
          "ename": "NameError",
          "evalue": "name 'encoded_java_Y_test' is not defined",
          "output_type": "error",
          "traceback": [
            "\u001b[0;31m---------------------------------------------------------------------------\u001b[0m",
            "\u001b[0;31mNameError\u001b[0m                                 Traceback (most recent call last)",
            "\u001b[0;32m<ipython-input-16-d7e3cbd2b1b7>\u001b[0m in \u001b[0;36m<cell line: 9>\u001b[0;34m()\u001b[0m\n\u001b[1;32m      7\u001b[0m   \u001b[0;32mreturn\u001b[0m \u001b[0mh\u001b[0m\u001b[0;34m\u001b[0m\u001b[0;34m\u001b[0m\u001b[0m\n\u001b[1;32m      8\u001b[0m \u001b[0;34m\u001b[0m\u001b[0m\n\u001b[0;32m----> 9\u001b[0;31m \u001b[0mprint\u001b[0m\u001b[0;34m(\u001b[0m\u001b[0;34m\"H-measure Trivial Model: \"\u001b[0m\u001b[0;34m,\u001b[0m \u001b[0mh_measure\u001b[0m\u001b[0;34m(\u001b[0m\u001b[0mencoded_java_Y_test\u001b[0m\u001b[0;34m,\u001b[0m \u001b[0mencoded_Y_pred_baseline\u001b[0m\u001b[0;34m)\u001b[0m\u001b[0;34m)\u001b[0m\u001b[0;34m\u001b[0m\u001b[0;34m\u001b[0m\u001b[0m\n\u001b[0m\u001b[1;32m     10\u001b[0m \u001b[0mprint\u001b[0m\u001b[0;34m(\u001b[0m\u001b[0;34m\"H-measure KNN: \"\u001b[0m\u001b[0;34m,\u001b[0m \u001b[0mh_measure\u001b[0m\u001b[0;34m(\u001b[0m\u001b[0mencoded_java_Y_test\u001b[0m \u001b[0;34m,\u001b[0m\u001b[0mencoded_Y_pred_knn\u001b[0m\u001b[0;34m)\u001b[0m\u001b[0;34m)\u001b[0m\u001b[0;34m\u001b[0m\u001b[0;34m\u001b[0m\u001b[0m\n\u001b[1;32m     11\u001b[0m \u001b[0mprint\u001b[0m\u001b[0;34m(\u001b[0m\u001b[0;34m\"H-measure SVM: \"\u001b[0m\u001b[0;34m,\u001b[0m \u001b[0mh_measure\u001b[0m\u001b[0;34m(\u001b[0m\u001b[0mencoded_java_Y_test\u001b[0m \u001b[0;34m,\u001b[0m\u001b[0mencoded_Y_pred_svm\u001b[0m\u001b[0;34m)\u001b[0m\u001b[0;34m)\u001b[0m\u001b[0;34m\u001b[0m\u001b[0;34m\u001b[0m\u001b[0m\n",
            "\u001b[0;31mNameError\u001b[0m: name 'encoded_java_Y_test' is not defined"
          ]
        }
      ],
      "source": [
        "# H-measure\n",
        "print(\"H-measure Trivial Model: \", h_measure(encoded_java_Y_test, encoded_Y_pred_baseline))\n",
        "print(\"H-measure KNN: \", h_measure(encoded_java_Y_test ,encoded_Y_pred_knn))\n",
        "print(\"H-measure SVM: \", h_measure(encoded_java_Y_test ,encoded_Y_pred_svm))\n",
        "print(\"H-measure LogisticRegression: \", h_measure(encoded_java_Y_test ,encoded_Y_pred_logistic_regression))\n",
        "print(\"H-measure Random Forest: \", h_measure(encoded_java_Y_test ,encoded_Y_pred_random_forest))\n",
        "print(\"PH-measure GBM: \", h_measure(encoded_java_Y_test ,encoded_Y_pred_gbm))"
      ]
    },
    {
      "cell_type": "markdown",
      "metadata": {
        "id": "ENUUgSI4TXQr"
      },
      "source": [
        "##**Step 4: Undersampling the majority class**"
      ]
    },
    {
      "cell_type": "code",
      "execution_count": null,
      "metadata": {
        "id": "gGKEjxoGoYB5"
      },
      "outputs": [],
      "source": [
        "# We create 2 dataframes, one with only P3 observations and another one with only 'else' observations\n",
        "majority = java[java['Priority'] == 'P3']\n",
        "minority = java[java['Priority'] != 'P3']"
      ]
    },
    {
      "cell_type": "code",
      "execution_count": null,
      "metadata": {
        "id": "SonptDvkUev1"
      },
      "outputs": [],
      "source": [
        "# Use resample function to undersample the majority class\n",
        "from sklearn.utils import resample\n",
        "undersampled_majority = resample(\n",
        "    majority,\n",
        "    replace = False, # We want to sample without replacement\n",
        "    n_samples = len(minority), # We match the minority class size\n",
        "    random_state = 1\n",
        ")"
      ]
    },
    {
      "cell_type": "code",
      "execution_count": null,
      "metadata": {
        "id": "jaEIMlUho7-2"
      },
      "outputs": [],
      "source": [
        "# Combine the undersampled majority class with the entire minority class\n",
        "undersampled_java = pd.concat([undersampled_majority, minority])"
      ]
    },
    {
      "cell_type": "code",
      "execution_count": null,
      "metadata": {
        "colab": {
          "base_uri": "https://localhost:8080/"
        },
        "id": "yErXvuO5pkRP",
        "outputId": "654179ad-1ad0-4e67-9ab3-0639a67492f3"
      },
      "outputs": [
        {
          "data": {
            "application/vnd.google.colaboratory.intrinsic+json": {
              "summary": "{\n  \"name\": \"undersampled_java\",\n  \"rows\": 11158,\n  \"fields\": [\n    {\n      \"column\": \"Priority\",\n      \"properties\": {\n        \"dtype\": \"category\",\n        \"num_unique_values\": 2,\n        \"samples\": [\n          \"else\",\n          \"P3\"\n        ],\n        \"semantic_type\": \"\",\n        \"description\": \"\"\n      }\n    },\n    {\n      \"column\": \"Text\",\n      \"properties\": {\n        \"dtype\": \"string\",\n        \"num_unique_values\": 11146,\n        \"samples\": [\n          \"LaunchView toolbar actions not updated on long steps 20020122; JDK 1.3.1; ; Perform a step return in a method that will take a long time to complete.; ; The Thread and stack frames update correctly to indicate the stepping; but the ; toolbar actions (the step; resume; suspend actions) do not update to reflect ; the current state.; ; Same for a long step over.; ; Time to put back all of the updateButtons calls in the LaunchViewEventHandler\",\n          \"Join lines should respect the formatter settings Currently Eclipse always puts a space between lines when joining. Typically this produces lines like:; ; some .method(); ; In my experience; I end up deleting the space in virtually every single case and joining several short lines is significantly slower due to this.; ; I suggest to make the join lines tool smarter and have it decide whether or not to put the space in based on the current code formatter settings.\"\n        ],\n        \"semantic_type\": \"\",\n        \"description\": \"\"\n      }\n    }\n  ]\n}",
              "type": "dataframe",
              "variable_name": "undersampled_java"
            },
            "text/html": [
              "\n",
              "  <div id=\"df-4d9594b0-6822-4c54-aca2-f1342732cac8\" class=\"colab-df-container\">\n",
              "    <div>\n",
              "<style scoped>\n",
              "    .dataframe tbody tr th:only-of-type {\n",
              "        vertical-align: middle;\n",
              "    }\n",
              "\n",
              "    .dataframe tbody tr th {\n",
              "        vertical-align: top;\n",
              "    }\n",
              "\n",
              "    .dataframe thead th {\n",
              "        text-align: right;\n",
              "    }\n",
              "</style>\n",
              "<table border=\"1\" class=\"dataframe tex2jax_ignore\">\n",
              "  <thead>\n",
              "    <tr style=\"text-align: right;\">\n",
              "      <th></th>\n",
              "      <th>Priority</th>\n",
              "      <th>Text</th>\n",
              "    </tr>\n",
              "  </thead>\n",
              "  <tbody>\n",
              "    <tr>\n",
              "      <th>32335</th>\n",
              "      <td>P3</td>\n",
              "      <td>TVT3.2:TCT913: tw Wrong shortcut for Content Assist for T.Chinese OS RHEL 3.1; Must fix or not a must fix: NO; Build date: 0611; Component name = BASE; Blocking: NO; Language: tw; Bitmap Location:...</td>\n",
              "    </tr>\n",
              "    <tr>\n",
              "      <th>4049</th>\n",
              "      <td>P3</td>\n",
              "      <td>Template for null is incorrectly displayed in codeassist popup Build 20020305; ; When selecting the null template; it displays ; incorrectly null; and then inserts null .</td>\n",
              "    </tr>\n",
              "    <tr>\n",
              "      <th>22930</th>\n",
              "      <td>P3</td>\n",
              "      <td>Improper behavior when trying to indent javadoc line Consider this code (suppose youre fixing javadocs):; ; public class Foo; {; /**; * something; void foo(); {}; }; ; Place cursor at the start of...</td>\n",
              "    </tr>\n",
              "    <tr>\n",
              "      <th>20145</th>\n",
              "      <td>P3</td>\n",
              "      <td>Externalize Strings at end of file doesnt break lines correctly I2004-06-10; ; I externalized a String such that the new key in the properties file was; inserted at the end of file. I ended up wit...</td>\n",
              "    </tr>\n",
              "    <tr>\n",
              "      <th>15826</th>\n",
              "      <td>P3</td>\n",
              "      <td>Jardesc should be able to store destination location relative to the workspace One of the things Im doing is generating a jar to put into another project. ; Id like to share that jar description w...</td>\n",
              "    </tr>\n",
              "  </tbody>\n",
              "</table>\n",
              "</div>\n",
              "    <div class=\"colab-df-buttons\">\n",
              "\n",
              "  <div class=\"colab-df-container\">\n",
              "    <button class=\"colab-df-convert\" onclick=\"convertToInteractive('df-4d9594b0-6822-4c54-aca2-f1342732cac8')\"\n",
              "            title=\"Convert this dataframe to an interactive table.\"\n",
              "            style=\"display:none;\">\n",
              "\n",
              "  <svg xmlns=\"http://www.w3.org/2000/svg\" height=\"24px\" viewBox=\"0 -960 960 960\">\n",
              "    <path d=\"M120-120v-720h720v720H120Zm60-500h600v-160H180v160Zm220 220h160v-160H400v160Zm0 220h160v-160H400v160ZM180-400h160v-160H180v160Zm440 0h160v-160H620v160ZM180-180h160v-160H180v160Zm440 0h160v-160H620v160Z\"/>\n",
              "  </svg>\n",
              "    </button>\n",
              "\n",
              "  <style>\n",
              "    .colab-df-container {\n",
              "      display:flex;\n",
              "      gap: 12px;\n",
              "    }\n",
              "\n",
              "    .colab-df-convert {\n",
              "      background-color: #E8F0FE;\n",
              "      border: none;\n",
              "      border-radius: 50%;\n",
              "      cursor: pointer;\n",
              "      display: none;\n",
              "      fill: #1967D2;\n",
              "      height: 32px;\n",
              "      padding: 0 0 0 0;\n",
              "      width: 32px;\n",
              "    }\n",
              "\n",
              "    .colab-df-convert:hover {\n",
              "      background-color: #E2EBFA;\n",
              "      box-shadow: 0px 1px 2px rgba(60, 64, 67, 0.3), 0px 1px 3px 1px rgba(60, 64, 67, 0.15);\n",
              "      fill: #174EA6;\n",
              "    }\n",
              "\n",
              "    .colab-df-buttons div {\n",
              "      margin-bottom: 4px;\n",
              "    }\n",
              "\n",
              "    [theme=dark] .colab-df-convert {\n",
              "      background-color: #3B4455;\n",
              "      fill: #D2E3FC;\n",
              "    }\n",
              "\n",
              "    [theme=dark] .colab-df-convert:hover {\n",
              "      background-color: #434B5C;\n",
              "      box-shadow: 0px 1px 3px 1px rgba(0, 0, 0, 0.15);\n",
              "      filter: drop-shadow(0px 1px 2px rgba(0, 0, 0, 0.3));\n",
              "      fill: #FFFFFF;\n",
              "    }\n",
              "  </style>\n",
              "\n",
              "    <script>\n",
              "      const buttonEl =\n",
              "        document.querySelector('#df-4d9594b0-6822-4c54-aca2-f1342732cac8 button.colab-df-convert');\n",
              "      buttonEl.style.display =\n",
              "        google.colab.kernel.accessAllowed ? 'block' : 'none';\n",
              "\n",
              "      async function convertToInteractive(key) {\n",
              "        const element = document.querySelector('#df-4d9594b0-6822-4c54-aca2-f1342732cac8');\n",
              "        const dataTable =\n",
              "          await google.colab.kernel.invokeFunction('convertToInteractive',\n",
              "                                                    [key], {});\n",
              "        if (!dataTable) return;\n",
              "\n",
              "        const docLinkHtml = 'Like what you see? Visit the ' +\n",
              "          '<a target=\"_blank\" href=https://colab.research.google.com/notebooks/data_table.ipynb>data table notebook</a>'\n",
              "          + ' to learn more about interactive tables.';\n",
              "        element.innerHTML = '';\n",
              "        dataTable['output_type'] = 'display_data';\n",
              "        await google.colab.output.renderOutput(dataTable, element);\n",
              "        const docLink = document.createElement('div');\n",
              "        docLink.innerHTML = docLinkHtml;\n",
              "        element.appendChild(docLink);\n",
              "      }\n",
              "    </script>\n",
              "  </div>\n",
              "\n",
              "\n",
              "<div id=\"df-cd208f45-c679-4c64-8014-9fdcaec894f3\">\n",
              "  <button class=\"colab-df-quickchart\" onclick=\"quickchart('df-cd208f45-c679-4c64-8014-9fdcaec894f3')\"\n",
              "            title=\"Suggest charts\"\n",
              "            style=\"display:none;\">\n",
              "\n",
              "<svg xmlns=\"http://www.w3.org/2000/svg\" height=\"24px\"viewBox=\"0 0 24 24\"\n",
              "     width=\"24px\">\n",
              "    <g>\n",
              "        <path d=\"M19 3H5c-1.1 0-2 .9-2 2v14c0 1.1.9 2 2 2h14c1.1 0 2-.9 2-2V5c0-1.1-.9-2-2-2zM9 17H7v-7h2v7zm4 0h-2V7h2v10zm4 0h-2v-4h2v4z\"/>\n",
              "    </g>\n",
              "</svg>\n",
              "  </button>\n",
              "\n",
              "<style>\n",
              "  .colab-df-quickchart {\n",
              "      --bg-color: #E8F0FE;\n",
              "      --fill-color: #1967D2;\n",
              "      --hover-bg-color: #E2EBFA;\n",
              "      --hover-fill-color: #174EA6;\n",
              "      --disabled-fill-color: #AAA;\n",
              "      --disabled-bg-color: #DDD;\n",
              "  }\n",
              "\n",
              "  [theme=dark] .colab-df-quickchart {\n",
              "      --bg-color: #3B4455;\n",
              "      --fill-color: #D2E3FC;\n",
              "      --hover-bg-color: #434B5C;\n",
              "      --hover-fill-color: #FFFFFF;\n",
              "      --disabled-bg-color: #3B4455;\n",
              "      --disabled-fill-color: #666;\n",
              "  }\n",
              "\n",
              "  .colab-df-quickchart {\n",
              "    background-color: var(--bg-color);\n",
              "    border: none;\n",
              "    border-radius: 50%;\n",
              "    cursor: pointer;\n",
              "    display: none;\n",
              "    fill: var(--fill-color);\n",
              "    height: 32px;\n",
              "    padding: 0;\n",
              "    width: 32px;\n",
              "  }\n",
              "\n",
              "  .colab-df-quickchart:hover {\n",
              "    background-color: var(--hover-bg-color);\n",
              "    box-shadow: 0 1px 2px rgba(60, 64, 67, 0.3), 0 1px 3px 1px rgba(60, 64, 67, 0.15);\n",
              "    fill: var(--button-hover-fill-color);\n",
              "  }\n",
              "\n",
              "  .colab-df-quickchart-complete:disabled,\n",
              "  .colab-df-quickchart-complete:disabled:hover {\n",
              "    background-color: var(--disabled-bg-color);\n",
              "    fill: var(--disabled-fill-color);\n",
              "    box-shadow: none;\n",
              "  }\n",
              "\n",
              "  .colab-df-spinner {\n",
              "    border: 2px solid var(--fill-color);\n",
              "    border-color: transparent;\n",
              "    border-bottom-color: var(--fill-color);\n",
              "    animation:\n",
              "      spin 1s steps(1) infinite;\n",
              "  }\n",
              "\n",
              "  @keyframes spin {\n",
              "    0% {\n",
              "      border-color: transparent;\n",
              "      border-bottom-color: var(--fill-color);\n",
              "      border-left-color: var(--fill-color);\n",
              "    }\n",
              "    20% {\n",
              "      border-color: transparent;\n",
              "      border-left-color: var(--fill-color);\n",
              "      border-top-color: var(--fill-color);\n",
              "    }\n",
              "    30% {\n",
              "      border-color: transparent;\n",
              "      border-left-color: var(--fill-color);\n",
              "      border-top-color: var(--fill-color);\n",
              "      border-right-color: var(--fill-color);\n",
              "    }\n",
              "    40% {\n",
              "      border-color: transparent;\n",
              "      border-right-color: var(--fill-color);\n",
              "      border-top-color: var(--fill-color);\n",
              "    }\n",
              "    60% {\n",
              "      border-color: transparent;\n",
              "      border-right-color: var(--fill-color);\n",
              "    }\n",
              "    80% {\n",
              "      border-color: transparent;\n",
              "      border-right-color: var(--fill-color);\n",
              "      border-bottom-color: var(--fill-color);\n",
              "    }\n",
              "    90% {\n",
              "      border-color: transparent;\n",
              "      border-bottom-color: var(--fill-color);\n",
              "    }\n",
              "  }\n",
              "</style>\n",
              "\n",
              "  <script>\n",
              "    async function quickchart(key) {\n",
              "      const quickchartButtonEl =\n",
              "        document.querySelector('#' + key + ' button');\n",
              "      quickchartButtonEl.disabled = true;  // To prevent multiple clicks.\n",
              "      quickchartButtonEl.classList.add('colab-df-spinner');\n",
              "      try {\n",
              "        const charts = await google.colab.kernel.invokeFunction(\n",
              "            'suggestCharts', [key], {});\n",
              "      } catch (error) {\n",
              "        console.error('Error during call to suggestCharts:', error);\n",
              "      }\n",
              "      quickchartButtonEl.classList.remove('colab-df-spinner');\n",
              "      quickchartButtonEl.classList.add('colab-df-quickchart-complete');\n",
              "    }\n",
              "    (() => {\n",
              "      let quickchartButtonEl =\n",
              "        document.querySelector('#df-cd208f45-c679-4c64-8014-9fdcaec894f3 button');\n",
              "      quickchartButtonEl.style.display =\n",
              "        google.colab.kernel.accessAllowed ? 'block' : 'none';\n",
              "    })();\n",
              "  </script>\n",
              "</div>\n",
              "    </div>\n",
              "  </div>\n"
            ],
            "text/plain": [
              "      Priority  \\\n",
              "32335       P3   \n",
              "4049        P3   \n",
              "22930       P3   \n",
              "20145       P3   \n",
              "15826       P3   \n",
              "\n",
              "                                                                                                                                                                                                          Text  \n",
              "32335  TVT3.2:TCT913: tw Wrong shortcut for Content Assist for T.Chinese OS RHEL 3.1; Must fix or not a must fix: NO; Build date: 0611; Component name = BASE; Blocking: NO; Language: tw; Bitmap Location:...  \n",
              "4049                                Template for null is incorrectly displayed in codeassist popup Build 20020305; ; When selecting the null template; it displays ; incorrectly null; and then inserts null .  \n",
              "22930  Improper behavior when trying to indent javadoc line Consider this code (suppose youre fixing javadocs):; ; public class Foo; {; /**; * something; void foo(); {}; }; ; Place cursor at the start of...  \n",
              "20145  Externalize Strings at end of file doesnt break lines correctly I2004-06-10; ; I externalized a String such that the new key in the properties file was; inserted at the end of file. I ended up wit...  \n",
              "15826  Jardesc should be able to store destination location relative to the workspace One of the things Im doing is generating a jar to put into another project. ; Id like to share that jar description w...  "
            ]
          },
          "execution_count": 33,
          "metadata": {},
          "output_type": "execute_result"
        }
      ],
      "source": [
        "undersampled_java.head()"
      ]
    },
    {
      "cell_type": "code",
      "execution_count": null,
      "metadata": {
        "colab": {
          "base_uri": "https://localhost:8080/"
        },
        "id": "TceKmP3xv2gS",
        "outputId": "43111b2b-2275-458b-b2d3-e2f665d734ad"
      },
      "outputs": [
        {
          "data": {
            "text/plain": [
              "P3     0.50\n",
              "else   0.50\n",
              "Name: Priority, dtype: float64"
            ]
          },
          "execution_count": 61,
          "metadata": {},
          "output_type": "execute_result"
        }
      ],
      "source": [
        "undersampled_java['Priority'].value_counts(normalize = True)"
      ]
    },
    {
      "cell_type": "code",
      "execution_count": null,
      "metadata": {
        "colab": {
          "base_uri": "https://localhost:8080/"
        },
        "id": "nGjVoKtWpLO2",
        "outputId": "f3a0f686-30b2-4f6f-887a-c3391935ade3"
      },
      "outputs": [
        {
          "name": "stdout",
          "output_type": "stream",
          "text": [
            "Train data: 8926\n",
            "Test data: 2232\n"
          ]
        }
      ],
      "source": [
        "# Split the undersampled dataset into the training and test sets\n",
        "undersampled_java_X_train, undersampled_java_X_test, undersampled_java_Y_train, undersampled_java_Y_test = train_test_split(undersampled_java[\"Text\"],\n",
        "                                                                        undersampled_java[\"Priority\"],\n",
        "                                                                        test_size = 0.2, # We still use 80% as training and 20% as test sets\n",
        "                                                                        random_state = 1,\n",
        "                                                                        stratify = undersampled_java[\"Priority\"]) # We stratify to keep the balance in classes between the train and test sets\n",
        "print(\"Train data:\", undersampled_java_X_train.shape[0])\n",
        "print(\"Test data:\", undersampled_java_X_test.shape[0])"
      ]
    },
    {
      "cell_type": "code",
      "execution_count": null,
      "metadata": {
        "id": "0BlRpDKEqtiP"
      },
      "outputs": [],
      "source": [
        "# Vectorize the train and test data\n",
        "undersampled_java_X_train_tf = tfidf.fit_transform(undersampled_java_X_train)\n",
        "undersampled_java_X_test_tf = tfidf.transform(undersampled_java_X_test)"
      ]
    },
    {
      "cell_type": "code",
      "execution_count": null,
      "metadata": {
        "id": "-BwYpj_Gq9a4"
      },
      "outputs": [],
      "source": [
        "# Fit a new Trivial classifier\n",
        "undersampled_trivial = DummyClassifier(strategy = \"most_frequent\", random_state = 1)\n",
        "undersampled_trivial.fit(undersampled_java_X_train_tf, undersampled_java_Y_train)\n",
        "undersampled_Y_pred_baseline = undersampled_trivial.predict(undersampled_java_X_test_tf)"
      ]
    },
    {
      "cell_type": "code",
      "execution_count": null,
      "metadata": {
        "colab": {
          "base_uri": "https://localhost:8080/"
        },
        "id": "38urSNHarTQP",
        "outputId": "8acbd3dd-1136-46e3-dd86-cc7724e45213"
      },
      "outputs": [
        {
          "name": "stdout",
          "output_type": "stream",
          "text": [
            "CPU times: user 1min 38s, sys: 193 ms, total: 1min 38s\n",
            "Wall time: 1min 51s\n"
          ]
        }
      ],
      "source": [
        "# K-Nearest Neighbor\n",
        "%%time\n",
        "undersampled_knn = KNeighborsClassifier(n_neighbors = 5, metric = \"euclidean\")\n",
        "undersampled_knn.fit(undersampled_java_X_train_tf, undersampled_java_Y_train)\n",
        "undersampled_Y_pred_knn = undersampled_knn.predict(undersampled_java_X_test_tf)"
      ]
    },
    {
      "cell_type": "code",
      "execution_count": null,
      "metadata": {
        "colab": {
          "base_uri": "https://localhost:8080/"
        },
        "id": "vSX-PIcWrh16",
        "outputId": "bb6e630c-b975-424a-982b-62efa8806c6f"
      },
      "outputs": [
        {
          "name": "stdout",
          "output_type": "stream",
          "text": [
            "CPU times: user 44.2 s, sys: 120 ms, total: 44.3 s\n",
            "Wall time: 44.4 s\n"
          ]
        }
      ],
      "source": [
        "# Support Vector Machine\n",
        "%%time\n",
        "undersampled_svm = SVC()\n",
        "undersampled_svm.fit(undersampled_java_X_train_tf, undersampled_java_Y_train)\n",
        "undersampled_Y_pred_svm = undersampled_svm.predict(undersampled_java_X_test_tf)"
      ]
    },
    {
      "cell_type": "code",
      "execution_count": null,
      "metadata": {
        "colab": {
          "base_uri": "https://localhost:8080/"
        },
        "id": "RvFGqqyvsHzr",
        "outputId": "dc73295c-59ef-46ab-a5c7-e4ee138f9ded"
      },
      "outputs": [
        {
          "name": "stdout",
          "output_type": "stream",
          "text": [
            "CPU times: user 41.8 ms, sys: 68.9 ms, total: 111 ms\n",
            "Wall time: 1.43 s\n"
          ]
        }
      ],
      "source": [
        "# Logistic Regression\n",
        "%%time\n",
        "undersampled_logistic_regression = LogisticRegression(n_jobs = -1)\n",
        "undersampled_logistic_regression.fit(undersampled_java_X_train_tf, undersampled_java_Y_train)\n",
        "undersampled_Y_pred_logistic_regression = undersampled_logistic_regression.predict(undersampled_java_X_test_tf)"
      ]
    },
    {
      "cell_type": "code",
      "execution_count": null,
      "metadata": {
        "colab": {
          "base_uri": "https://localhost:8080/"
        },
        "id": "iOV_jzASsUJd",
        "outputId": "d018dfb4-647f-4a59-81c3-f757e1720515"
      },
      "outputs": [
        {
          "name": "stdout",
          "output_type": "stream",
          "text": [
            "CPU times: user 14.8 s, sys: 81.5 ms, total: 14.9 s\n",
            "Wall time: 15.8 s\n"
          ]
        }
      ],
      "source": [
        "# Random Forest\n",
        "%%time\n",
        "undersampled_random_forest = RandomForestClassifier(random_state = 1, n_jobs = -1)\n",
        "undersampled_random_forest.fit(undersampled_java_X_train_tf, undersampled_java_Y_train)\n",
        "undersampled_Y_pred_random_forest = undersampled_random_forest.predict(undersampled_java_X_test_tf)"
      ]
    },
    {
      "cell_type": "code",
      "execution_count": null,
      "metadata": {
        "colab": {
          "base_uri": "https://localhost:8080/"
        },
        "id": "4O5mR-GJsbvY",
        "outputId": "0c11e58e-b3a3-4a6d-9795-8e353cccd7d8"
      },
      "outputs": [
        {
          "name": "stdout",
          "output_type": "stream",
          "text": [
            "CPU times: user 19.2 s, sys: 48.7 ms, total: 19.2 s\n",
            "Wall time: 22.6 s\n"
          ]
        }
      ],
      "source": [
        "# GradientBoostingClassifier\n",
        "%%time\n",
        "undersampled_gbm = GradientBoostingClassifier()\n",
        "undersampled_gbm.fit(undersampled_java_X_train_tf, undersampled_java_Y_train)\n",
        "undersampled_Y_pred_gbm = undersampled_gbm.predict(undersampled_java_X_test_tf)"
      ]
    },
    {
      "cell_type": "code",
      "execution_count": null,
      "metadata": {
        "colab": {
          "base_uri": "https://localhost:8080/"
        },
        "id": "dFhIQLp2spLd",
        "outputId": "f4a547a7-b746-4aaf-a1ea-1b544e18300b"
      },
      "outputs": [
        {
          "name": "stdout",
          "output_type": "stream",
          "text": [
            "Accuracy Trivial Model:  0.5\n",
            "Accuracy SVM:  0.6626344086021505\n",
            "Accuracy LogisticRegression:  0.6536738351254481\n",
            "Accuracy Random Forest:  0.6545698924731183\n",
            "Accuracy KNN:  0.589605734767025\n",
            "Accuracy GBM:  0.6317204301075269\n"
          ]
        }
      ],
      "source": [
        "# Accuracy\n",
        "print(\"Accuracy Trivial Model: \", accuracy_score(undersampled_java_Y_test, undersampled_Y_pred_baseline))\n",
        "print(\"Accuracy KNN: \", accuracy_score(undersampled_java_Y_test, undersampled_Y_pred_knn))\n",
        "print(\"Accuracy SVM: \", accuracy_score(undersampled_java_Y_test, undersampled_Y_pred_svm))\n",
        "print(\"Accuracy LogisticRegression: \", accuracy_score(undersampled_java_Y_test, undersampled_Y_pred_logistic_regression))\n",
        "print(\"Accuracy Random Forest: \", accuracy_score(undersampled_java_Y_test, undersampled_Y_pred_random_forest))\n",
        "print(\"Accuracy GBM: \", accuracy_score(undersampled_java_Y_test, undersampled_Y_pred_gbm))"
      ]
    },
    {
      "cell_type": "code",
      "execution_count": null,
      "metadata": {
        "colab": {
          "base_uri": "https://localhost:8080/"
        },
        "id": "v-pk38K0s3tR",
        "outputId": "2a627d52-a354-4334-a2ce-b74cfc905fa3"
      },
      "outputs": [
        {
          "name": "stdout",
          "output_type": "stream",
          "text": [
            "F1-score Trivial Model:  0.6666666666666666\n",
            "F1-score SVM:  0.6669615214506855\n",
            "F1-score LogisticRegression:  0.6608161474330847\n",
            "F1-score Random Forest:  0.6737198476512907\n",
            "F1-score KNN:  0.6321285140562248\n",
            "F1-score GBM:  0.6663961038961039\n"
          ]
        }
      ],
      "source": [
        "# F1 score\n",
        "print(\"F1-score Trivial Model: \", f1_score(undersampled_java_Y_test, undersampled_Y_pred_baseline, pos_label = \"P3\"))\n",
        "print(\"F1-score KNN: \", f1_score(undersampled_java_Y_test, undersampled_Y_pred_knn, pos_label = \"P3\"))\n",
        "print(\"F1-score SVM: \", f1_score(undersampled_java_Y_test, undersampled_Y_pred_svm, pos_label = \"P3\"))\n",
        "print(\"F1-score LogisticRegression: \", f1_score(undersampled_java_Y_test, undersampled_Y_pred_logistic_regression, pos_label = \"P3\"))\n",
        "print(\"F1-score Random Forest: \", f1_score(undersampled_java_Y_test, undersampled_Y_pred_random_forest, pos_label = \"P3\"))\n",
        "print(\"F1-score GBM: \", f1_score(undersampled_java_Y_test, undersampled_Y_pred_gbm, pos_label = \"P3\"))"
      ]
    },
    {
      "cell_type": "code",
      "execution_count": null,
      "metadata": {
        "colab": {
          "base_uri": "https://localhost:8080/"
        },
        "id": "q7djGcF_tJWD",
        "outputId": "b1c995ab-39e1-4365-f1c3-8fab96520e14"
      },
      "outputs": [
        {
          "name": "stdout",
          "output_type": "stream",
          "text": [
            "Cohen's kappa Trivial Model:  0.0\n",
            "Cohen's kappa SVM:  0.3252688172043011\n",
            "Cohen's kappa LogisticRegression:  0.30734767025089604\n",
            "Cohen's kappa Random Forest:  0.3091397849462365\n",
            "Cohen's kappa KNN:  0.1792114695340502\n",
            "Cohen's kappa GBM:  0.26344086021505375\n"
          ]
        }
      ],
      "source": [
        "# Cohen's Kappa\n",
        "print(\"Cohen's kappa Trivial Model: \", cohen_kappa_score(undersampled_java_Y_test, undersampled_Y_pred_baseline))\n",
        "print(\"Cohen's kappa KNN: \", cohen_kappa_score(undersampled_java_Y_test, undersampled_Y_pred_knn))\n",
        "print(\"Cohen's kappa SVM: \", cohen_kappa_score(undersampled_java_Y_test, undersampled_Y_pred_svm))\n",
        "print(\"Cohen's kappa LogisticRegression: \", cohen_kappa_score(undersampled_java_Y_test, undersampled_Y_pred_logistic_regression))\n",
        "print(\"Cohen's kappa Random Forest: \", cohen_kappa_score(undersampled_java_Y_test, undersampled_Y_pred_random_forest))\n",
        "print(\"Cohen's kappa GBM: \", cohen_kappa_score(undersampled_java_Y_test, undersampled_Y_pred_gbm))"
      ]
    },
    {
      "cell_type": "code",
      "execution_count": null,
      "metadata": {
        "colab": {
          "base_uri": "https://localhost:8080/"
        },
        "id": "EiPl_CSBtUdP",
        "outputId": "53107409-b8c6-48ed-f3f1-0876d7fd3df7"
      },
      "outputs": [
        {
          "name": "stdout",
          "output_type": "stream",
          "text": [
            "ROC AUC Trivial Model:  0.5\n",
            "ROC AUC SVM:  0.6626344086021505\n",
            "ROC AUC LogisticRegression:  0.6536738351254481\n",
            "ROC AUC Random Forest:  0.6545698924731183\n",
            "ROC AUC KNN:  0.589605734767025\n",
            "ROC AUC GBM:  0.6317204301075269\n"
          ]
        }
      ],
      "source": [
        "# ROC AUC\n",
        "undersampled_label_encoder = LabelEncoder()\n",
        "undersampled_encoded_java_Y_test = undersampled_label_encoder.fit_transform(undersampled_java_Y_test)\n",
        "undersampled_encoded_Y_pred_baseline = undersampled_label_encoder.fit_transform(undersampled_Y_pred_baseline)\n",
        "undersampled_encoded_Y_pred_svm = undersampled_label_encoder.fit_transform(undersampled_Y_pred_svm)\n",
        "undersampled_encoded_Y_pred_logistic_regression = undersampled_label_encoder.fit_transform(undersampled_Y_pred_logistic_regression)\n",
        "undersampled_encoded_Y_pred_random_forest = undersampled_label_encoder.fit_transform(undersampled_Y_pred_random_forest)\n",
        "undersampled_encoded_Y_pred_knn = undersampled_label_encoder.fit_transform(undersampled_Y_pred_knn)\n",
        "undersampled_encoded_Y_pred_gbm = undersampled_label_encoder.fit_transform(undersampled_Y_pred_gbm)\n",
        "print(\"ROC AUC Trivial Model: \", roc_auc_score(undersampled_encoded_java_Y_test, undersampled_encoded_Y_pred_baseline))\n",
        "print(\"ROC AUC KNN: \", roc_auc_score(undersampled_encoded_java_Y_test, undersampled_encoded_Y_pred_knn))\n",
        "print(\"ROC AUC SVM: \", roc_auc_score(undersampled_encoded_java_Y_test, undersampled_encoded_Y_pred_svm))\n",
        "print(\"ROC AUC LogisticRegression: \", roc_auc_score(undersampled_encoded_java_Y_test, undersampled_encoded_Y_pred_logistic_regression))\n",
        "print(\"ROC AUC Random Forest: \", roc_auc_score(undersampled_encoded_java_Y_test, undersampled_encoded_Y_pred_random_forest))\n",
        "print(\"ROC AUC GBM: \", roc_auc_score(undersampled_encoded_java_Y_test, undersampled_encoded_Y_pred_gbm))"
      ]
    },
    {
      "cell_type": "code",
      "execution_count": null,
      "metadata": {
        "colab": {
          "base_uri": "https://localhost:8080/"
        },
        "id": "F3HIS9jntzk8",
        "outputId": "65b579ea-71e7-4a5c-9f89-c454e33ad88a"
      },
      "outputs": [
        {
          "name": "stdout",
          "output_type": "stream",
          "text": [
            "PRC AUC Trivial Model:  0.5\n",
            "PRC AUC SVM:  0.6084728116251694\n",
            "PRC AUC LogisticRegression:  0.6014908583709695\n",
            "PRC AUC Random Forest:  0.6043542928879428\n",
            "PRC AUC KNN:  0.5552464262141682\n",
            "PRC AUC GBM:  0.5877639517345399\n"
          ]
        }
      ],
      "source": [
        "# PRC AUC\n",
        "print(\"PRC AUC Trivial Model: \", average_precision_score(undersampled_encoded_java_Y_test, undersampled_encoded_Y_pred_baseline))\n",
        "print(\"PRC AUC KNN: \", average_precision_score(undersampled_encoded_java_Y_test, undersampled_encoded_Y_pred_knn))\n",
        "print(\"PRC AUC SVM: \", average_precision_score(undersampled_encoded_java_Y_test, undersampled_encoded_Y_pred_svm))\n",
        "print(\"PRC AUC LogisticRegression: \", average_precision_score(undersampled_encoded_java_Y_test, undersampled_encoded_Y_pred_logistic_regression))\n",
        "print(\"PRC AUC Random Forest: \", average_precision_score(undersampled_encoded_java_Y_test, undersampled_encoded_Y_pred_random_forest))\n",
        "print(\"PRC AUC GBM: \", average_precision_score(undersampled_encoded_java_Y_test, undersampled_encoded_Y_pred_gbm))"
      ]
    },
    {
      "cell_type": "code",
      "execution_count": null,
      "metadata": {
        "colab": {
          "base_uri": "https://localhost:8080/"
        },
        "id": "DrbEnMzWuCSn",
        "outputId": "a368517e-bea3-42eb-b528-79be6a70b200"
      },
      "outputs": [
        {
          "name": "stdout",
          "output_type": "stream",
          "text": [
            "H-measure Trivial Model:  nan\n",
            "H-measure SVM:  0.658193372673627\n",
            "H-measure LogisticRegression:  0.6462242562929061\n",
            "H-measure Random Forest:  0.6330318895763922\n",
            "H-measure KNN:  0.53596757852077\n",
            "H-measure GBM:  0.589\n"
          ]
        }
      ],
      "source": [
        "# H-measure\n",
        "print(\"H-measure Trivial Model: \", h_measure(undersampled_encoded_java_Y_test, undersampled_encoded_Y_pred_baseline))\n",
        "print(\"H-measure KNN: \", h_measure(undersampled_encoded_java_Y_test, undersampled_encoded_Y_pred_knn))\n",
        "print(\"H-measure SVM: \", h_measure(undersampled_encoded_java_Y_test, undersampled_encoded_Y_pred_svm))\n",
        "print(\"H-measure LogisticRegression: \", h_measure(undersampled_encoded_java_Y_test, undersampled_encoded_Y_pred_logistic_regression))\n",
        "print(\"H-measure Random Forest: \", h_measure(undersampled_encoded_java_Y_test, undersampled_encoded_Y_pred_random_forest))\n",
        "print(\"H-measure GBM: \", h_measure(undersampled_encoded_java_Y_test, undersampled_encoded_Y_pred_gbm))"
      ]
    },
    {
      "cell_type": "markdown",
      "metadata": {
        "id": "bzn1Pt0CuY3E"
      },
      "source": [
        "##**Step 5: Oversampling the minority class**"
      ]
    },
    {
      "cell_type": "code",
      "execution_count": null,
      "metadata": {
        "id": "0Rp0e1t0VoZ8"
      },
      "outputs": [],
      "source": [
        "# Calculate the ratio of majority to minority observations\n",
        "ratio = len(majority) // len(minority)"
      ]
    },
    {
      "cell_type": "code",
      "execution_count": null,
      "metadata": {
        "id": "NuGZhIjNuXJt"
      },
      "outputs": [],
      "source": [
        "# We duplicate the observations in the minority class according to our ratio\n",
        "duplicated_minority = pd.concat([minority] * ratio)"
      ]
    },
    {
      "cell_type": "code",
      "execution_count": null,
      "metadata": {
        "id": "VIND7nM9u_Qz"
      },
      "outputs": [],
      "source": [
        "# Combine the oversampled minority class with the majority class\n",
        "oversampled_java = pd.concat([majority, duplicated_minority])"
      ]
    },
    {
      "cell_type": "code",
      "execution_count": null,
      "metadata": {
        "colab": {
          "base_uri": "https://localhost:8080/",
          "height": 293
        },
        "id": "De-PhCKUvh9h",
        "outputId": "d3252adb-d614-4cb0-f570-fff0a59fc96a"
      },
      "outputs": [
        {
          "data": {
            "application/vnd.google.colaboratory.intrinsic+json": {
              "summary": "{\n  \"name\": \"oversampled_java\",\n  \"rows\": 78697,\n  \"fields\": [\n    {\n      \"column\": \"Priority\",\n      \"properties\": {\n        \"dtype\": \"category\",\n        \"num_unique_values\": 2,\n        \"samples\": [\n          \"else\",\n          \"P3\"\n        ],\n        \"semantic_type\": \"\",\n        \"description\": \"\"\n      }\n    },\n    {\n      \"column\": \"Text\",\n      \"properties\": {\n        \"dtype\": \"string\",\n        \"num_unique_values\": 44976,\n        \"samples\": [\n          \"Exception in .log when thread groups on and terminating I got the following exception in my .log when exiting a target that was displaying thread groups.; ; com.sun.jdi.VMDisconnectedException: Got IOException from Virtual Machine; at org.eclipse.jdi.internal.connect.PacketReceiveManager.getReply(PacketReceiveManager.java:165); at org.eclipse.jdi.internal.connect.PacketReceiveManager.getReply(PacketReceiveManager.java:180); at org.eclipse.jdi.internal.MirrorImpl.requestVM(MirrorImpl.java:174); at org.eclipse.jdi.internal.MirrorImpl.requestVM(MirrorImpl.java:192); at org.eclipse.jdi.internal.MirrorImpl.requestVM(MirrorImpl.java:207); at org.eclipse.jdi.internal.ThreadGroupReferenceImpl.childrenInfo(ThreadGroupReferenceImpl.java:142); at org.eclipse.jdi.internal.ThreadGroupReferenceImpl.threads(ThreadGroupReferenceImpl.java:174); at org.eclipse.jdt.internal.debug.core.model.JDIThreadGroup.getThreads(JDIThreadGroup.java:51); at org.eclipse.jdt.internal.debug.ui.threadgroups.JavaThreadEventHandler.addPathToThread(JavaThreadEventHandler.java:124); at org.eclipse.debug.internal.ui.viewers.update.ThreadEventHandler.fireDeltaAndClearTopFrame(ThreadEventHandler.java:203); at org.eclipse.debug.internal.ui.viewers.update.ThreadEventHandler.handleTerminate(ThreadEventHandler.java:130); at org.eclipse.debug.internal.ui.viewers.update.EventHandlerModelProxy.dispatchTerminate(EventHandlerModelProxy.java:172); at org.eclipse.debug.internal.ui.viewers.update.EventHandlerModelProxy.handleDebugEvents(EventHandlerModelProxy.java:132); at org.eclipse.debug.core.DebugPlugin$EventNotifier.run(DebugPlugin.java:1076); at org.eclipse.core.runtime.SafeRunner.run(SafeRunner.java:42); at org.eclipse.debug.core.DebugPlugin$EventNotifier.dispatch(DebugPlugin.java:1110); at org.eclipse.debug.core.DebugPlugin$EventDispatchJob.run(DebugPlugin.java:381); at org.eclipse.core.internal.jobs.Worker.run(Worker.java:55)\",\n          \"Menu in the package explorer view doesnt work anymore With Eclipse in Linux/GTK ; Menu in the package explorer doesnt work anymore.; We cannot select a working set; filter; sort etc... in this view\"\n        ],\n        \"semantic_type\": \"\",\n        \"description\": \"\"\n      }\n    }\n  ]\n}",
              "type": "dataframe",
              "variable_name": "oversampled_java"
            },
            "text/html": [
              "\n",
              "  <div id=\"df-e94f8147-29e4-46cc-94e2-0f2930fdb682\" class=\"colab-df-container\">\n",
              "    <div>\n",
              "<style scoped>\n",
              "    .dataframe tbody tr th:only-of-type {\n",
              "        vertical-align: middle;\n",
              "    }\n",
              "\n",
              "    .dataframe tbody tr th {\n",
              "        vertical-align: top;\n",
              "    }\n",
              "\n",
              "    .dataframe thead th {\n",
              "        text-align: right;\n",
              "    }\n",
              "</style>\n",
              "<table border=\"1\" class=\"dataframe tex2jax_ignore\">\n",
              "  <thead>\n",
              "    <tr style=\"text-align: right;\">\n",
              "      <th></th>\n",
              "      <th>Priority</th>\n",
              "      <th>Text</th>\n",
              "    </tr>\n",
              "  </thead>\n",
              "  <tbody>\n",
              "    <tr>\n",
              "      <th>1</th>\n",
              "      <td>P3</td>\n",
              "      <td>README: Hit count not reset (1GET20Y) JGS (6/4/01 11:43:47 AM); Set a breakpoint in InfiniteLoop with a hit count. When suspended;; right click breakpoint in Breakpoints viewer and enable. Hit cou...</td>\n",
              "    </tr>\n",
              "    <tr>\n",
              "      <th>2</th>\n",
              "      <td>P3</td>\n",
              "      <td>Use styled text in console (1G9S1YF) DW (2/26/01 5:56:36 PM); Could allow users to use styled text in console; with preference support. This would; allow console input to be shown in bold; etc.</td>\n",
              "    </tr>\n",
              "    <tr>\n",
              "      <th>3</th>\n",
              "      <td>P3</td>\n",
              "      <td>StringBuffer representation (1GE3BFA) JGS (5/21/01 2:09:10 PM); To be consistent; should we represent StringBuffer objects in the variables view like; we do Strings; with their values shown on the...</td>\n",
              "    </tr>\n",
              "    <tr>\n",
              "      <th>5</th>\n",
              "      <td>P3</td>\n",
              "      <td>Breakpoint in an invalid location (1G4F8P8) DS (11/14/00 2:59:11 PM); You can set a breakpoint that is in an invalid location; for example:; ; public class Inner implements Enumeration {; private ...</td>\n",
              "    </tr>\n",
              "    <tr>\n",
              "      <th>8</th>\n",
              "      <td>P3</td>\n",
              "      <td>Snippet evaluation should support imports (1G47213) I want to write code like this in a snippet file; ; import com.ibm.swt.widgets.*; ; Shell shell= new Shell();; shell.open();; ; ; NOTES:; EG (11...</td>\n",
              "    </tr>\n",
              "  </tbody>\n",
              "</table>\n",
              "</div>\n",
              "    <div class=\"colab-df-buttons\">\n",
              "\n",
              "  <div class=\"colab-df-container\">\n",
              "    <button class=\"colab-df-convert\" onclick=\"convertToInteractive('df-e94f8147-29e4-46cc-94e2-0f2930fdb682')\"\n",
              "            title=\"Convert this dataframe to an interactive table.\"\n",
              "            style=\"display:none;\">\n",
              "\n",
              "  <svg xmlns=\"http://www.w3.org/2000/svg\" height=\"24px\" viewBox=\"0 -960 960 960\">\n",
              "    <path d=\"M120-120v-720h720v720H120Zm60-500h600v-160H180v160Zm220 220h160v-160H400v160Zm0 220h160v-160H400v160ZM180-400h160v-160H180v160Zm440 0h160v-160H620v160ZM180-180h160v-160H180v160Zm440 0h160v-160H620v160Z\"/>\n",
              "  </svg>\n",
              "    </button>\n",
              "\n",
              "  <style>\n",
              "    .colab-df-container {\n",
              "      display:flex;\n",
              "      gap: 12px;\n",
              "    }\n",
              "\n",
              "    .colab-df-convert {\n",
              "      background-color: #E8F0FE;\n",
              "      border: none;\n",
              "      border-radius: 50%;\n",
              "      cursor: pointer;\n",
              "      display: none;\n",
              "      fill: #1967D2;\n",
              "      height: 32px;\n",
              "      padding: 0 0 0 0;\n",
              "      width: 32px;\n",
              "    }\n",
              "\n",
              "    .colab-df-convert:hover {\n",
              "      background-color: #E2EBFA;\n",
              "      box-shadow: 0px 1px 2px rgba(60, 64, 67, 0.3), 0px 1px 3px 1px rgba(60, 64, 67, 0.15);\n",
              "      fill: #174EA6;\n",
              "    }\n",
              "\n",
              "    .colab-df-buttons div {\n",
              "      margin-bottom: 4px;\n",
              "    }\n",
              "\n",
              "    [theme=dark] .colab-df-convert {\n",
              "      background-color: #3B4455;\n",
              "      fill: #D2E3FC;\n",
              "    }\n",
              "\n",
              "    [theme=dark] .colab-df-convert:hover {\n",
              "      background-color: #434B5C;\n",
              "      box-shadow: 0px 1px 3px 1px rgba(0, 0, 0, 0.15);\n",
              "      filter: drop-shadow(0px 1px 2px rgba(0, 0, 0, 0.3));\n",
              "      fill: #FFFFFF;\n",
              "    }\n",
              "  </style>\n",
              "\n",
              "    <script>\n",
              "      const buttonEl =\n",
              "        document.querySelector('#df-e94f8147-29e4-46cc-94e2-0f2930fdb682 button.colab-df-convert');\n",
              "      buttonEl.style.display =\n",
              "        google.colab.kernel.accessAllowed ? 'block' : 'none';\n",
              "\n",
              "      async function convertToInteractive(key) {\n",
              "        const element = document.querySelector('#df-e94f8147-29e4-46cc-94e2-0f2930fdb682');\n",
              "        const dataTable =\n",
              "          await google.colab.kernel.invokeFunction('convertToInteractive',\n",
              "                                                    [key], {});\n",
              "        if (!dataTable) return;\n",
              "\n",
              "        const docLinkHtml = 'Like what you see? Visit the ' +\n",
              "          '<a target=\"_blank\" href=https://colab.research.google.com/notebooks/data_table.ipynb>data table notebook</a>'\n",
              "          + ' to learn more about interactive tables.';\n",
              "        element.innerHTML = '';\n",
              "        dataTable['output_type'] = 'display_data';\n",
              "        await google.colab.output.renderOutput(dataTable, element);\n",
              "        const docLink = document.createElement('div');\n",
              "        docLink.innerHTML = docLinkHtml;\n",
              "        element.appendChild(docLink);\n",
              "      }\n",
              "    </script>\n",
              "  </div>\n",
              "\n",
              "\n",
              "<div id=\"df-962436ae-0188-40e4-bed9-8f2a627f170b\">\n",
              "  <button class=\"colab-df-quickchart\" onclick=\"quickchart('df-962436ae-0188-40e4-bed9-8f2a627f170b')\"\n",
              "            title=\"Suggest charts\"\n",
              "            style=\"display:none;\">\n",
              "\n",
              "<svg xmlns=\"http://www.w3.org/2000/svg\" height=\"24px\"viewBox=\"0 0 24 24\"\n",
              "     width=\"24px\">\n",
              "    <g>\n",
              "        <path d=\"M19 3H5c-1.1 0-2 .9-2 2v14c0 1.1.9 2 2 2h14c1.1 0 2-.9 2-2V5c0-1.1-.9-2-2-2zM9 17H7v-7h2v7zm4 0h-2V7h2v10zm4 0h-2v-4h2v4z\"/>\n",
              "    </g>\n",
              "</svg>\n",
              "  </button>\n",
              "\n",
              "<style>\n",
              "  .colab-df-quickchart {\n",
              "      --bg-color: #E8F0FE;\n",
              "      --fill-color: #1967D2;\n",
              "      --hover-bg-color: #E2EBFA;\n",
              "      --hover-fill-color: #174EA6;\n",
              "      --disabled-fill-color: #AAA;\n",
              "      --disabled-bg-color: #DDD;\n",
              "  }\n",
              "\n",
              "  [theme=dark] .colab-df-quickchart {\n",
              "      --bg-color: #3B4455;\n",
              "      --fill-color: #D2E3FC;\n",
              "      --hover-bg-color: #434B5C;\n",
              "      --hover-fill-color: #FFFFFF;\n",
              "      --disabled-bg-color: #3B4455;\n",
              "      --disabled-fill-color: #666;\n",
              "  }\n",
              "\n",
              "  .colab-df-quickchart {\n",
              "    background-color: var(--bg-color);\n",
              "    border: none;\n",
              "    border-radius: 50%;\n",
              "    cursor: pointer;\n",
              "    display: none;\n",
              "    fill: var(--fill-color);\n",
              "    height: 32px;\n",
              "    padding: 0;\n",
              "    width: 32px;\n",
              "  }\n",
              "\n",
              "  .colab-df-quickchart:hover {\n",
              "    background-color: var(--hover-bg-color);\n",
              "    box-shadow: 0 1px 2px rgba(60, 64, 67, 0.3), 0 1px 3px 1px rgba(60, 64, 67, 0.15);\n",
              "    fill: var(--button-hover-fill-color);\n",
              "  }\n",
              "\n",
              "  .colab-df-quickchart-complete:disabled,\n",
              "  .colab-df-quickchart-complete:disabled:hover {\n",
              "    background-color: var(--disabled-bg-color);\n",
              "    fill: var(--disabled-fill-color);\n",
              "    box-shadow: none;\n",
              "  }\n",
              "\n",
              "  .colab-df-spinner {\n",
              "    border: 2px solid var(--fill-color);\n",
              "    border-color: transparent;\n",
              "    border-bottom-color: var(--fill-color);\n",
              "    animation:\n",
              "      spin 1s steps(1) infinite;\n",
              "  }\n",
              "\n",
              "  @keyframes spin {\n",
              "    0% {\n",
              "      border-color: transparent;\n",
              "      border-bottom-color: var(--fill-color);\n",
              "      border-left-color: var(--fill-color);\n",
              "    }\n",
              "    20% {\n",
              "      border-color: transparent;\n",
              "      border-left-color: var(--fill-color);\n",
              "      border-top-color: var(--fill-color);\n",
              "    }\n",
              "    30% {\n",
              "      border-color: transparent;\n",
              "      border-left-color: var(--fill-color);\n",
              "      border-top-color: var(--fill-color);\n",
              "      border-right-color: var(--fill-color);\n",
              "    }\n",
              "    40% {\n",
              "      border-color: transparent;\n",
              "      border-right-color: var(--fill-color);\n",
              "      border-top-color: var(--fill-color);\n",
              "    }\n",
              "    60% {\n",
              "      border-color: transparent;\n",
              "      border-right-color: var(--fill-color);\n",
              "    }\n",
              "    80% {\n",
              "      border-color: transparent;\n",
              "      border-right-color: var(--fill-color);\n",
              "      border-bottom-color: var(--fill-color);\n",
              "    }\n",
              "    90% {\n",
              "      border-color: transparent;\n",
              "      border-bottom-color: var(--fill-color);\n",
              "    }\n",
              "  }\n",
              "</style>\n",
              "\n",
              "  <script>\n",
              "    async function quickchart(key) {\n",
              "      const quickchartButtonEl =\n",
              "        document.querySelector('#' + key + ' button');\n",
              "      quickchartButtonEl.disabled = true;  // To prevent multiple clicks.\n",
              "      quickchartButtonEl.classList.add('colab-df-spinner');\n",
              "      try {\n",
              "        const charts = await google.colab.kernel.invokeFunction(\n",
              "            'suggestCharts', [key], {});\n",
              "      } catch (error) {\n",
              "        console.error('Error during call to suggestCharts:', error);\n",
              "      }\n",
              "      quickchartButtonEl.classList.remove('colab-df-spinner');\n",
              "      quickchartButtonEl.classList.add('colab-df-quickchart-complete');\n",
              "    }\n",
              "    (() => {\n",
              "      let quickchartButtonEl =\n",
              "        document.querySelector('#df-962436ae-0188-40e4-bed9-8f2a627f170b button');\n",
              "      quickchartButtonEl.style.display =\n",
              "        google.colab.kernel.accessAllowed ? 'block' : 'none';\n",
              "    })();\n",
              "  </script>\n",
              "</div>\n",
              "    </div>\n",
              "  </div>\n"
            ],
            "text/plain": [
              "  Priority  \\\n",
              "1       P3   \n",
              "2       P3   \n",
              "3       P3   \n",
              "5       P3   \n",
              "8       P3   \n",
              "\n",
              "                                                                                                                                                                                                      Text  \n",
              "1  README: Hit count not reset (1GET20Y) JGS (6/4/01 11:43:47 AM); Set a breakpoint in InfiniteLoop with a hit count. When suspended;; right click breakpoint in Breakpoints viewer and enable. Hit cou...  \n",
              "2        Use styled text in console (1G9S1YF) DW (2/26/01 5:56:36 PM); Could allow users to use styled text in console; with preference support. This would; allow console input to be shown in bold; etc.  \n",
              "3  StringBuffer representation (1GE3BFA) JGS (5/21/01 2:09:10 PM); To be consistent; should we represent StringBuffer objects in the variables view like; we do Strings; with their values shown on the...  \n",
              "5  Breakpoint in an invalid location (1G4F8P8) DS (11/14/00 2:59:11 PM); You can set a breakpoint that is in an invalid location; for example:; ; public class Inner implements Enumeration {; private ...  \n",
              "8  Snippet evaluation should support imports (1G47213) I want to write code like this in a snippet file; ; import com.ibm.swt.widgets.*; ; Shell shell= new Shell();; shell.open();; ; ; NOTES:; EG (11...  "
            ]
          },
          "execution_count": 19,
          "metadata": {},
          "output_type": "execute_result"
        }
      ],
      "source": [
        "oversampled_java.head()"
      ]
    },
    {
      "cell_type": "code",
      "execution_count": null,
      "metadata": {
        "colab": {
          "base_uri": "https://localhost:8080/"
        },
        "id": "n27gVLeBvrH6",
        "outputId": "296fda17-8626-4383-fb36-c0edf07d56a2"
      },
      "outputs": [
        {
          "data": {
            "text/plain": [
              "P3     0.50\n",
              "else   0.50\n",
              "Name: Priority, dtype: float64"
            ]
          },
          "execution_count": 20,
          "metadata": {},
          "output_type": "execute_result"
        }
      ],
      "source": [
        "oversampled_java['Priority'].value_counts(normalize = True)"
      ]
    },
    {
      "cell_type": "code",
      "execution_count": null,
      "metadata": {
        "colab": {
          "base_uri": "https://localhost:8080/"
        },
        "id": "AJpBqC5zvJ0E",
        "outputId": "ab50f46c-8bad-452b-d6d5-2be9c4926393"
      },
      "outputs": [
        {
          "name": "stdout",
          "output_type": "stream",
          "text": [
            "Train data: 62957\n",
            "Test data: 15740\n"
          ]
        }
      ],
      "source": [
        "# Split the oversampled dataset into the training and test sets\n",
        "oversampled_java_X_train, oversampled_java_X_test, oversampled_java_Y_train, oversampled_java_Y_test = train_test_split(oversampled_java[\"Text\"],\n",
        "                                                                        oversampled_java[\"Priority\"],\n",
        "                                                                        test_size = 0.2, # We still use 80% as training and 20% as test sets\n",
        "                                                                        random_state = 1,\n",
        "                                                                        stratify = oversampled_java[\"Priority\"]) # We stratify to keep the balance in classes between the train and test sets\n",
        "print(\"Train data:\", oversampled_java_X_train.shape[0])\n",
        "print(\"Test data:\", oversampled_java_X_test.shape[0])"
      ]
    },
    {
      "cell_type": "code",
      "execution_count": null,
      "metadata": {
        "id": "9NvFDiWVwpSr"
      },
      "outputs": [],
      "source": [
        "# Vectorize the train and test data\n",
        "oversampled_java_X_train_tf = tfidf.fit_transform(oversampled_java_X_train)\n",
        "oversampled_java_X_test_tf = tfidf.transform(oversampled_java_X_test)"
      ]
    },
    {
      "cell_type": "code",
      "execution_count": null,
      "metadata": {
        "id": "EHUM6DObwxQC"
      },
      "outputs": [],
      "source": [
        "# Fit a new Trivial classifier\n",
        "oversampled_trivial = DummyClassifier(strategy = \"most_frequent\", random_state = 1)\n",
        "oversampled_trivial.fit(oversampled_java_X_train_tf, oversampled_java_Y_train)\n",
        "oversampled_Y_pred_baseline = oversampled_trivial.predict(oversampled_java_X_test_tf)"
      ]
    },
    {
      "cell_type": "code",
      "execution_count": null,
      "metadata": {
        "colab": {
          "base_uri": "https://localhost:8080/"
        },
        "id": "4Rpphd63xCUB",
        "outputId": "61668114-b8ad-47b4-cef2-427758d6922c"
      },
      "outputs": [
        {
          "name": "stdout",
          "output_type": "stream",
          "text": [
            "CPU times: user 1h 48min 49s, sys: 4.98 s, total: 1h 48min 54s\n",
            "Wall time: 1h 49min 3s\n"
          ]
        }
      ],
      "source": [
        "# K-Nearest Neighbor\n",
        "%%time\n",
        "oversampled_knn = KNeighborsClassifier(n_neighbors = 5, metric = \"euclidean\")\n",
        "oversampled_knn.fit(oversampled_java_X_train_tf, oversampled_java_Y_train)\n",
        "oversampled_Y_pred_knn = oversampled_knn.predict(oversampled_java_X_test_tf)"
      ]
    },
    {
      "cell_type": "code",
      "execution_count": null,
      "metadata": {
        "colab": {
          "base_uri": "https://localhost:8080/"
        },
        "id": "q9s5P32cxHMl",
        "outputId": "0d7f991b-c887-48be-e47b-3eaeee09bfa7"
      },
      "outputs": [
        {
          "name": "stdout",
          "output_type": "stream",
          "text": [
            "CPU times: user 1h 11min 28s, sys: 4.33 s, total: 1h 11min 32s\n",
            "Wall time: 1h 11min 42s\n"
          ]
        }
      ],
      "source": [
        "# Support Vector Machine\n",
        "%%time\n",
        "oversampled_svm = SVC()\n",
        "oversampled_svm.fit(oversampled_java_X_train_tf, oversampled_java_Y_train)\n",
        "oversampled_Y_pred_svm = oversampled_svm.predict(oversampled_java_X_test_tf)"
      ]
    },
    {
      "cell_type": "code",
      "execution_count": null,
      "metadata": {
        "colab": {
          "base_uri": "https://localhost:8080/"
        },
        "id": "Zl9gtQhNxK8p",
        "outputId": "c257735c-55b7-4019-b39c-121f21fd3906"
      },
      "outputs": [
        {
          "name": "stdout",
          "output_type": "stream",
          "text": [
            "CPU times: user 143 ms, sys: 192 ms, total: 334 ms\n",
            "Wall time: 4.11 s\n"
          ]
        }
      ],
      "source": [
        "# Logistic Regression\n",
        "%%time\n",
        "oversampled_logistic_regression = LogisticRegression(n_jobs = -1)\n",
        "oversampled_logistic_regression.fit(oversampled_java_X_train_tf, oversampled_java_Y_train)\n",
        "oversampled_Y_pred_logistic_regression = oversampled_logistic_regression.predict(oversampled_java_X_test_tf)"
      ]
    },
    {
      "cell_type": "code",
      "execution_count": null,
      "metadata": {
        "colab": {
          "base_uri": "https://localhost:8080/"
        },
        "id": "l1C-UyhOxO6O",
        "outputId": "900efe2c-0ef8-4216-b7af-a313e39e303d"
      },
      "outputs": [
        {
          "name": "stdout",
          "output_type": "stream",
          "text": [
            "CPU times: user 4min 22s, sys: 573 ms, total: 4min 23s\n",
            "Wall time: 2min 24s\n"
          ]
        }
      ],
      "source": [
        "# Random Forest\n",
        "%%time\n",
        "oversampled_random_forest = RandomForestClassifier(random_state = 1, n_jobs = -1)\n",
        "oversampled_random_forest.fit(oversampled_java_X_train_tf, oversampled_java_Y_train)\n",
        "oversampled_Y_pred_random_forest = oversampled_random_forest.predict(oversampled_java_X_test_tf)"
      ]
    },
    {
      "cell_type": "code",
      "execution_count": null,
      "metadata": {
        "colab": {
          "base_uri": "https://localhost:8080/"
        },
        "id": "_cB5Sg4vxSj7",
        "outputId": "48260b7c-9261-4e8e-b807-887b87a31aa1"
      },
      "outputs": [
        {
          "name": "stdout",
          "output_type": "stream",
          "text": [
            "CPU times: user 2min 47s, sys: 154 ms, total: 2min 48s\n",
            "Wall time: 2min 48s\n"
          ]
        }
      ],
      "source": [
        "# GradientBoostingClassifier\n",
        "%%time\n",
        "oversampled_gbm = GradientBoostingClassifier()\n",
        "oversampled_gbm.fit(oversampled_java_X_train_tf, oversampled_java_Y_train)\n",
        "oversampled_Y_pred_gbm = oversampled_gbm.predict(oversampled_java_X_test_tf)"
      ]
    },
    {
      "cell_type": "code",
      "execution_count": null,
      "metadata": {
        "colab": {
          "base_uri": "https://localhost:8080/"
        },
        "id": "5KK6162ixWXX",
        "outputId": "a58176d9-82c7-4a60-931a-b7fe6ee291b0"
      },
      "outputs": [
        {
          "name": "stdout",
          "output_type": "stream",
          "text": [
            "Accuracy Trivial Model:  0.5037484116899619\n",
            "Accuracy KNN:  0.9649301143583228\n",
            "Accuracy SVM:  0.9801778907242694\n",
            "Accuracy LogisticRegression:  0.8549555273189327\n",
            "Accuracy Random Forest:  0.9864675984752224\n",
            "Accuracy GBM:  0.6907878017789072\n"
          ]
        }
      ],
      "source": [
        "# Accuracy\n",
        "print(\"Accuracy Trivial Model: \", accuracy_score(oversampled_java_Y_test, oversampled_Y_pred_baseline))\n",
        "print(\"Accuracy KNN: \", accuracy_score(oversampled_java_Y_test, oversampled_Y_pred_knn))\n",
        "print(\"Accuracy SVM: \", accuracy_score(oversampled_java_Y_test, oversampled_Y_pred_svm))\n",
        "print(\"Accuracy LogisticRegression: \", accuracy_score(oversampled_java_Y_test, oversampled_Y_pred_logistic_regression))\n",
        "print(\"Accuracy Random Forest: \", accuracy_score(oversampled_java_Y_test, oversampled_Y_pred_random_forest))\n",
        "print(\"Accuracy GBM: \", accuracy_score(oversampled_java_Y_test, oversampled_Y_pred_gbm))"
      ]
    },
    {
      "cell_type": "code",
      "execution_count": null,
      "metadata": {
        "colab": {
          "base_uri": "https://localhost:8080/"
        },
        "id": "_IaYBf6kxf89",
        "outputId": "8897cc41-9fb3-4e63-974f-c0bfee189637"
      },
      "outputs": [
        {
          "name": "stdout",
          "output_type": "stream",
          "text": [
            "F1-score Trivial Model:  0.6699902826481896\n",
            "F1-score KNN:  0.9644604687097605\n",
            "F1-score SVM:  0.9800153727901615\n",
            "F1-score LogisticRegression:  0.8498520223610655\n",
            "F1-score Random Forest:  0.9863975988249569\n",
            "F1-score GBM:  0.6934559425584178\n"
          ]
        }
      ],
      "source": [
        "# F1 score\n",
        "print(\"F1-score Trivial Model: \", f1_score(oversampled_java_Y_test, oversampled_Y_pred_baseline, pos_label = \"P3\"))\n",
        "print(\"F1-score KNN: \", f1_score(oversampled_java_Y_test, oversampled_Y_pred_knn, pos_label = \"P3\"))\n",
        "print(\"F1-score SVM: \", f1_score(oversampled_java_Y_test, oversampled_Y_pred_svm, pos_label = \"P3\"))\n",
        "print(\"F1-score LogisticRegression: \", f1_score(oversampled_java_Y_test, oversampled_Y_pred_logistic_regression, pos_label = \"P3\"))\n",
        "print(\"F1-score Random Forest: \", f1_score(oversampled_java_Y_test, oversampled_Y_pred_random_forest, pos_label = \"P3\"))\n",
        "print(\"F1-score GBM: \", f1_score(oversampled_java_Y_test, oversampled_Y_pred_gbm, pos_label = \"P3\"))"
      ]
    },
    {
      "cell_type": "code",
      "execution_count": null,
      "metadata": {
        "colab": {
          "base_uri": "https://localhost:8080/"
        },
        "id": "xtRaEL7fxkC6",
        "outputId": "930e85fc-c3e0-4c3f-dcc0-0b215f8442a0"
      },
      "outputs": [
        {
          "name": "stdout",
          "output_type": "stream",
          "text": [
            "Cohen's kappa Trivial Model:  0.0\n",
            "Cohen's kappa KNN:  0.9298780634947142\n",
            "Cohen's kappa SVM:  0.9603628421306648\n",
            "Cohen's kappa LogisticRegression:  0.7100751039833411\n",
            "Cohen's kappa Random Forest:  0.9729388058728075\n",
            "Cohen's kappa GBM:  0.3815296503288155\n"
          ]
        }
      ],
      "source": [
        "# Cohen's Kappa\n",
        "print(\"Cohen's kappa Trivial Model: \", cohen_kappa_score(oversampled_java_Y_test, oversampled_Y_pred_baseline))\n",
        "print(\"Cohen's kappa KNN: \", cohen_kappa_score(oversampled_java_Y_test, oversampled_Y_pred_knn))\n",
        "print(\"Cohen's kappa SVM: \", cohen_kappa_score(oversampled_java_Y_test, oversampled_Y_pred_svm))\n",
        "print(\"Cohen's kappa LogisticRegression: \", cohen_kappa_score(oversampled_java_Y_test, oversampled_Y_pred_logistic_regression))\n",
        "print(\"Cohen's kappa Random Forest: \", cohen_kappa_score(oversampled_java_Y_test, oversampled_Y_pred_random_forest))\n",
        "print(\"Cohen's kappa GBM: \", cohen_kappa_score(oversampled_java_Y_test, oversampled_Y_pred_gbm))"
      ]
    },
    {
      "cell_type": "code",
      "execution_count": null,
      "metadata": {
        "colab": {
          "base_uri": "https://localhost:8080/"
        },
        "id": "neXVNZzlxojv",
        "outputId": "96104802-6618-4033-a350-d1cf02546e26"
      },
      "outputs": [
        {
          "name": "stdout",
          "output_type": "stream",
          "text": [
            "ROC AUC Trivial Model:  0.5\n",
            "ROC AUC KNN:  0.9650834228932201\n",
            "ROC AUC SVM:  0.9802939508312951\n",
            "ROC AUC LogisticRegression:  0.855258410649023\n",
            "ROC AUC Random Forest:  0.9865616251542645\n",
            "ROC AUC GBM:  0.6907613723053139\n"
          ]
        }
      ],
      "source": [
        "# ROC AUC\n",
        "oversampled_label_encoder = LabelEncoder()\n",
        "oversampled_encoded_java_Y_test = oversampled_label_encoder.fit_transform(oversampled_java_Y_test)\n",
        "oversampled_encoded_Y_pred_baseline = oversampled_label_encoder.fit_transform(oversampled_Y_pred_baseline)\n",
        "oversampled_encoded_Y_pred_svm = oversampled_label_encoder.fit_transform(oversampled_Y_pred_svm)\n",
        "oversampled_encoded_Y_pred_logistic_regression = oversampled_label_encoder.fit_transform(oversampled_Y_pred_logistic_regression)\n",
        "oversampled_encoded_Y_pred_random_forest = oversampled_label_encoder.fit_transform(oversampled_Y_pred_random_forest)\n",
        "oversampled_encoded_Y_pred_knn = oversampled_label_encoder.fit_transform(oversampled_Y_pred_knn)\n",
        "oversampled_encoded_Y_pred_gbm = oversampled_label_encoder.fit_transform(oversampled_Y_pred_gbm)\n",
        "print(\"ROC AUC Trivial Model: \", roc_auc_score(oversampled_encoded_java_Y_test, oversampled_encoded_Y_pred_baseline))\n",
        "print(\"ROC AUC KNN: \", roc_auc_score(oversampled_encoded_java_Y_test, oversampled_encoded_Y_pred_knn))\n",
        "print(\"ROC AUC SVM: \", roc_auc_score(oversampled_encoded_java_Y_test, oversampled_encoded_Y_pred_svm))\n",
        "print(\"ROC AUC LogisticRegression: \", roc_auc_score(oversampled_encoded_java_Y_test, oversampled_encoded_Y_pred_logistic_regression))\n",
        "print(\"ROC AUC Random Forest: \", roc_auc_score(oversampled_encoded_java_Y_test, oversampled_encoded_Y_pred_random_forest))\n",
        "print(\"ROC AUC GBM: \", roc_auc_score(oversampled_encoded_java_Y_test, oversampled_encoded_Y_pred_gbm))"
      ]
    },
    {
      "cell_type": "code",
      "execution_count": null,
      "metadata": {
        "colab": {
          "base_uri": "https://localhost:8080/"
        },
        "id": "Yg70ej8Mxskv",
        "outputId": "e8f1ee8d-ae35-4aee-f5ac-fc6d473313ac"
      },
      "outputs": [
        {
          "name": "stdout",
          "output_type": "stream",
          "text": [
            "PRC AUC Trivial Model:  0.4962515883100381\n",
            "PRC AUC KNN:  0.9395417945136552\n",
            "PRC AUC SVM:  0.963389782452304\n",
            "PRC AUC LogisticRegression:  0.7920952029809273\n",
            "PRC AUC Random Forest:  0.9738537496826404\n",
            "PRC AUC GBM:  0.6286545460234101\n"
          ]
        }
      ],
      "source": [
        "# PRC AUC\n",
        "print(\"PRC AUC Trivial Model: \", average_precision_score(oversampled_encoded_java_Y_test, oversampled_encoded_Y_pred_baseline))\n",
        "print(\"PRC AUC KNN: \", average_precision_score(oversampled_encoded_java_Y_test, oversampled_encoded_Y_pred_knn))\n",
        "print(\"PRC AUC SVM: \", average_precision_score(oversampled_encoded_java_Y_test, oversampled_encoded_Y_pred_svm))\n",
        "print(\"PRC AUC LogisticRegression: \", average_precision_score(oversampled_encoded_java_Y_test, oversampled_encoded_Y_pred_logistic_regression))\n",
        "print(\"PRC AUC Random Forest: \", average_precision_score(oversampled_encoded_java_Y_test, oversampled_encoded_Y_pred_random_forest))\n",
        "print(\"PRC AUC GBM: \", average_precision_score(oversampled_encoded_java_Y_test, oversampled_encoded_Y_pred_gbm))"
      ]
    },
    {
      "cell_type": "code",
      "execution_count": null,
      "metadata": {
        "colab": {
          "base_uri": "https://localhost:8080/"
        },
        "id": "IcHHeu8oxxOC",
        "outputId": "00d75f14-cb73-4467-f269-db471f017887"
      },
      "outputs": [
        {
          "name": "stdout",
          "output_type": "stream",
          "text": [
            "H-measure Trivial Model:  nan\n",
            "H-measure KNN:  0.9653875094055681\n",
            "H-measure SVM:  0.98033778674061\n",
            "H-measure LogisticRegression:  0.8597235023041475\n",
            "H-measure Random Forest:  0.9865368813602174\n",
            "H-measure GBM:  0.6880728065115683\n"
          ]
        }
      ],
      "source": [
        "# H-measure\n",
        "print(\"H-measure Trivial Model: \", h_measure(oversampled_encoded_java_Y_test, oversampled_encoded_Y_pred_baseline))\n",
        "print(\"H-measure KNN: \", h_measure(oversampled_encoded_java_Y_test, oversampled_encoded_Y_pred_knn))\n",
        "print(\"H-measure SVM: \", h_measure(oversampled_encoded_java_Y_test, oversampled_encoded_Y_pred_svm))\n",
        "print(\"H-measure LogisticRegression: \", h_measure(oversampled_encoded_java_Y_test, oversampled_encoded_Y_pred_logistic_regression))\n",
        "print(\"H-measure Random Forest: \", h_measure(oversampled_encoded_java_Y_test, oversampled_encoded_Y_pred_random_forest))\n",
        "print(\"H-measure GBM: \", h_measure(oversampled_encoded_java_Y_test, oversampled_encoded_Y_pred_gbm))"
      ]
    },
    {
      "cell_type": "markdown",
      "metadata": {
        "id": "5qrQl9lsIGBe"
      },
      "source": [
        "##**Step 6: SMOTE**"
      ]
    },
    {
      "cell_type": "code",
      "execution_count": null,
      "metadata": {
        "id": "lMiSmU_dINfz"
      },
      "outputs": [],
      "source": [
        "# We import the SMOTE class\n",
        "from imblearn.over_sampling import SMOTE"
      ]
    },
    {
      "cell_type": "code",
      "execution_count": null,
      "metadata": {
        "id": "bf8nCQY_KhE3"
      },
      "outputs": [],
      "source": [
        "# Convert 'P3' to 1 and 'else' to 0\n",
        "java['Priority'] = java['Priority'].str.replace('P3', '1')\n",
        "java['Priority'] = java['Priority'].str.replace('else', '0')"
      ]
    },
    {
      "cell_type": "code",
      "execution_count": null,
      "metadata": {
        "id": "ory8Gs0kKzDm"
      },
      "outputs": [],
      "source": [
        "# Ensure that these new binary outcomes are of type integer\n",
        "java['Priority'] = java['Priority'].astype(int)"
      ]
    },
    {
      "cell_type": "code",
      "execution_count": null,
      "metadata": {
        "id": "blqVbbnOJs7x"
      },
      "outputs": [],
      "source": [
        "# We define X and Y from the original java dataset\n",
        "java_X = java['Text']\n",
        "java_Y = java['Priority']"
      ]
    },
    {
      "cell_type": "code",
      "execution_count": null,
      "metadata": {
        "id": "ITSRPdMtLWEj"
      },
      "outputs": [],
      "source": [
        "# Apply TF-IDF Vectorization on X\n",
        "java_X_tf = tfidf.fit_transform(java_X)"
      ]
    },
    {
      "cell_type": "code",
      "execution_count": null,
      "metadata": {
        "id": "WijQcMWKKGlW"
      },
      "outputs": [],
      "source": [
        "# Instantiate SMOTE\n",
        "smote = SMOTE(random_state = 1)"
      ]
    },
    {
      "cell_type": "code",
      "execution_count": null,
      "metadata": {
        "colab": {
          "base_uri": "https://localhost:8080/"
        },
        "id": "Cky9-L8nKPyq",
        "outputId": "f976ce92-85b5-4be6-a630-91474bb40238"
      },
      "outputs": [
        {
          "name": "stdout",
          "output_type": "stream",
          "text": [
            "CPU times: user 4min 14s, sys: 377 ms, total: 4min 15s\n",
            "Wall time: 4min 22s\n"
          ]
        }
      ],
      "source": [
        "# Apply SMOTE algorithm on the X and Y\n",
        "%%time\n",
        "smote_java_X_tf, smote_java_Y = smote.fit_resample(java_X_tf, java_Y)"
      ]
    },
    {
      "cell_type": "code",
      "execution_count": null,
      "metadata": {
        "colab": {
          "base_uri": "https://localhost:8080/"
        },
        "id": "f9B5T-yQPyHu",
        "outputId": "7e7a47a5-7728-4893-c0ec-21c4cf04d03a"
      },
      "outputs": [
        {
          "name": "stdout",
          "output_type": "stream",
          "text": [
            "Train data: 63430\n",
            "Test data: 15858\n"
          ]
        }
      ],
      "source": [
        "# Divide the SMOTE dataset into train and test sets\n",
        "smote_java_X_train, smote_java_X_test, smote_java_Y_train, smote_java_Y_test = train_test_split(smote_java_X_tf,\n",
        "                                                                        smote_java_Y,\n",
        "                                                                        test_size = 0.2, # We use 80% as training and 20% as test sets\n",
        "                                                                        random_state = 1,\n",
        "                                                                        stratify = smote_java_Y) # We stratify to keep the balanced class distribution in the training and test samples\n",
        "print(\"Train data:\", smote_java_X_train.shape[0])\n",
        "print(\"Test data:\", smote_java_X_test.shape[0])"
      ]
    },
    {
      "cell_type": "code",
      "execution_count": null,
      "metadata": {
        "id": "EXmrL8CNQkIq"
      },
      "outputs": [],
      "source": [
        "# Trivial classifier\n",
        "trivial_smote = DummyClassifier(strategy = \"most_frequent\", random_state = 1)\n",
        "trivial_smote.fit(smote_java_X_train, smote_java_Y_train)\n",
        "smote_Y_pred_baseline = trivial_smote.predict(smote_java_X_test)"
      ]
    },
    {
      "cell_type": "code",
      "execution_count": null,
      "metadata": {
        "colab": {
          "background_save": true
        },
        "id": "qLff-KoVRJFB",
        "outputId": "3e2711f7-5afc-4f4d-e86e-43f86cda2a70"
      },
      "outputs": [
        {
          "name": "stdout",
          "output_type": "stream",
          "text": [
            "CPU times: user 4h 6min 20s, sys: 16.9 s, total: 4h 6min 36s\n",
            "Wall time: 4h 8min 18s\n"
          ]
        }
      ],
      "source": [
        "# K-Nearest Neighbor\n",
        "%%time\n",
        "knn_smote = KNeighborsClassifier(n_neighbors = 5, metric = \"euclidean\")\n",
        "knn_smote.fit(smote_java_X_train, smote_java_Y_train)\n",
        "smote_Y_pred_knn = knn_smote.predict(smote_java_X_test)"
      ]
    },
    {
      "cell_type": "code",
      "execution_count": null,
      "metadata": {
        "id": "IiFDbX7AuVxM"
      },
      "outputs": [],
      "source": [
        "# As we are not able to run the K-Nearest Neighbor due to not enough computing power, we train the KNN on only 30% of the training data, sampled randomly\n",
        "sample_smote_java_X_train, _, sample_smote_java_Y_train, _ = train_test_split(smote_java_X_train,\n",
        "                                                                        smote_java_Y_train,\n",
        "                                                                        test_size = 0.3,\n",
        "                                                                        random_state = 1,\n",
        "                                                                        stratify = smote_java_Y_train)"
      ]
    },
    {
      "cell_type": "code",
      "execution_count": null,
      "metadata": {
        "colab": {
          "background_save": true
        },
        "id": "3IUY1x8mvQsP",
        "outputId": "596a0f7b-9b1a-43da-d7d0-f3d983a459ad"
      },
      "outputs": [
        {
          "name": "stdout",
          "output_type": "stream",
          "text": [
            "CPU times: user 1h 59min 43s, sys: 6.17 s, total: 1h 59min 50s\n",
            "Wall time: 2h 25s\n"
          ]
        }
      ],
      "source": [
        "# K-Nearest Neighbor on sample\n",
        "%%time\n",
        "knn_smote = KNeighborsClassifier(n_neighbors = 5, metric = \"euclidean\")\n",
        "knn_smote.fit(sample_smote_java_X_train, sample_smote_java_Y_train)\n",
        "smote_Y_pred_knn = knn_smote.predict(smote_java_X_test)"
      ]
    },
    {
      "cell_type": "code",
      "execution_count": null,
      "metadata": {
        "colab": {
          "base_uri": "https://localhost:8080/"
        },
        "id": "7ISy2ZgpRS9b",
        "outputId": "4aff933b-08ed-46df-ae74-311f07cf54b1"
      },
      "outputs": [
        {
          "name": "stdout",
          "output_type": "stream",
          "text": [
            "CPU times: user 1h 42min 39s, sys: 9.19 s, total: 1h 42min 48s\n",
            "Wall time: 1h 43min 41s\n"
          ]
        }
      ],
      "source": [
        "# Support Vector Machine\n",
        "%%time\n",
        "svm_smote = SVC()\n",
        "svm_smote.fit(smote_java_X_train, smote_java_Y_train)\n",
        "smote_Y_pred_svm = svm_smote.predict(smote_java_X_test)"
      ]
    },
    {
      "cell_type": "code",
      "execution_count": null,
      "metadata": {
        "colab": {
          "base_uri": "https://localhost:8080/"
        },
        "id": "oj7GnAP_RdBD",
        "outputId": "1d2dc076-aef8-4575-ab17-e7241721a9f4"
      },
      "outputs": [
        {
          "name": "stdout",
          "output_type": "stream",
          "text": [
            "CPU times: user 241 ms, sys: 372 ms, total: 613 ms\n",
            "Wall time: 7.94 s\n"
          ]
        }
      ],
      "source": [
        "# Logistic Regression\n",
        "%%time\n",
        "logistic_regression_smote = LogisticRegression(n_jobs = -1)\n",
        "logistic_regression_smote.fit(smote_java_X_train, smote_java_Y_train)\n",
        "smote_Y_pred_logistic_regression = logistic_regression_smote.predict(smote_java_X_test)"
      ]
    },
    {
      "cell_type": "code",
      "execution_count": null,
      "metadata": {
        "id": "oa-knLieRmxI"
      },
      "outputs": [],
      "source": [
        "# Random Forest\n",
        "%%time\n",
        "random_forest_smote = RandomForestClassifier(random_state = 1, n_jobs = -1)\n",
        "random_forest_smote.fit(smote_java_X_train, smote_java_Y_train)\n",
        "smote_Y_pred_random_forest = random_forest_smote.predict(smote_java_X_test)"
      ]
    },
    {
      "cell_type": "code",
      "execution_count": null,
      "metadata": {
        "id": "-jCAQOCERvNv"
      },
      "outputs": [],
      "source": [
        "# Gradient Boosting Classifier\n",
        "%%time\n",
        "gbm_smote = GradientBoostingClassifier()\n",
        "gbm_smote.fit(smote_java_X_train, smote_java_Y_train)\n",
        "smote_Y_pred_gbm = gbm_smote.predict(smote_java_X_test)"
      ]
    },
    {
      "cell_type": "code",
      "execution_count": null,
      "metadata": {
        "id": "vYvCbyQyR4nH"
      },
      "outputs": [],
      "source": [
        "# Accuracy\n",
        "print(\"Accuracy Trivial Model: \", accuracy_score(smote_java_Y_test, smote_Y_pred_baseline))\n",
        "print(\"Accuracy KNN: \", accuracy_score(smote_java_Y_test, smote_Y_pred_knn))\n",
        "print(\"Accuracy SVM: \", accuracy_score(smote_java_Y_test, smote_Y_pred_svm))\n",
        "print(\"Accuracy LogisticRegression: \", accuracy_score(smote_java_Y_test, smote_Y_pred_logistic_regression))\n",
        "print(\"Accuracy Random Forest: \", accuracy_score(smote_java_Y_test, smote_Y_pred_random_forest))\n",
        "print(\"Accuracy GBM: \", accuracy_score(smote_java_Y_test, smote_Y_pred_gbm))"
      ]
    },
    {
      "cell_type": "code",
      "execution_count": null,
      "metadata": {
        "id": "RSVizTy_TwgW"
      },
      "outputs": [],
      "source": [
        "# F1 score\n",
        "print(\"F1-score Trivial Model: \", f1_score(smote_java_Y_test, smote_Y_pred_baseline, pos_label = \"P3\"))\n",
        "print(\"F1-score KNN: \", f1_score(smote_java_Y_test, smote_Y_pred_knn, pos_label = \"P3\"))\n",
        "print(\"F1-score SVM: \", f1_score(smote_java_Y_test, smote_Y_pred_svm, pos_label = \"P3\"))\n",
        "print(\"F1-score LogisticRegression: \", f1_score(smote_java_Y_test, smote_Y_pred_logistic_regression, pos_label = \"P3\"))\n",
        "print(\"F1-score Random Forest: \", f1_score(smote_java_Y_test, smote_Y_pred_random_forest, pos_label = \"P3\"))\n",
        "print(\"F1-score GBM: \", f1_score(smote_java_Y_test, smote_Y_pred_gbm, pos_label = \"P3\"))"
      ]
    },
    {
      "cell_type": "code",
      "execution_count": null,
      "metadata": {
        "id": "Xzb3KllpUAtx"
      },
      "outputs": [],
      "source": [
        "# Cohen's Kappa\n",
        "print(\"Cohen's kappa Trivial Model: \", cohen_kappa_score(smote_java_Y_test, smote_Y_pred_baseline))\n",
        "print(\"Cohen's kappa KNN: \", cohen_kappa_score(smote_java_Y_test, smote_Y_pred_knn))\n",
        "print(\"Cohen's kappa SVM: \", cohen_kappa_score(smote_java_Y_test, smote_Y_pred_svm))\n",
        "print(\"Cohen's kappa LogisticRegression: \", cohen_kappa_score(smote_java_Y_test, smote_Y_pred_logistic_regression))\n",
        "print(\"Cohen's kappa Random Forest: \", cohen_kappa_score(smote_java_Y_test, smote_Y_pred_random_forest))\n",
        "print(\"Cohen's kappa GBM: \", cohen_kappa_score(smote_java_Y_test, smote_Y_pred_gbm))"
      ]
    },
    {
      "cell_type": "code",
      "execution_count": null,
      "metadata": {
        "id": "qEGGa3o_UK3z"
      },
      "outputs": [],
      "source": [
        "# ROC AUC\n",
        "smote_label_encoder = LabelEncoder()\n",
        "smote_encoded_java_Y_test = smote_label_encoder.fit_transform(smote_java_Y_test)\n",
        "smote_encoded_Y_pred_baseline = smote_label_encoder.fit_transform(smote_Y_pred_baseline)\n",
        "smote_encoded_Y_pred_knn = smote_label_encoder.fit_transform(smote_Y_pred_knn)\n",
        "smote_encoded_Y_pred_svm = smote_label_encoder.fit_transform(smote_Y_pred_svm)\n",
        "smote_encoded_Y_pred_logistic_regression = smote_label_encoder.fit_transform(smote_Y_pred_logistic_regression)\n",
        "smote_encoded_Y_pred_random_forest = smote_label_encoder.fit_transform(smote_Y_pred_random_forest)\n",
        "smote_encoded_Y_pred_gbm = smote_label_encoder.fit_transform(smote_Y_pred_gbm)\n",
        "print(\"ROC AUC Trivial Model: \", roc_auc_score(smote_encoded_java_Y_test, smote_encoded_Y_pred_baseline))\n",
        "print(\"ROC AUC KNN: \", roc_auc_score(smote_encoded_java_Y_test, smote_encoded_Y_pred_knn))\n",
        "print(\"ROC AUC SVM: \", roc_auc_score(smote_encoded_java_Y_test, smote_encoded_Y_pred_svm))\n",
        "print(\"ROC AUC LogisticRegression: \", roc_auc_score(smote_encoded_java_Y_test, smote_encoded_Y_pred_logistic_regression))\n",
        "print(\"ROC AUC Random Forest: \", roc_auc_score(smote_encoded_java_Y_test, smote_encoded_Y_pred_random_forest))\n",
        "print(\"ROC AUC GBM: \", roc_auc_score(smote_encoded_java_Y_test, smote_encoded_Y_pred_gbm))"
      ]
    },
    {
      "cell_type": "code",
      "execution_count": null,
      "metadata": {
        "id": "2-WTIiHaUfr3"
      },
      "outputs": [],
      "source": [
        "# PRC AUC\n",
        "print(\"PRC AUC Trivial Model: \", average_precision_score(smote_encoded_java_Y_test, smote_encoded_Y_pred_baseline))\n",
        "print(\"PRC AUC KNN: \", average_precision_score(smote_encoded_java_Y_test, smote_encoded_Y_pred_knn))\n",
        "print(\"PRC AUC SVM: \", average_precision_score(smote_encoded_java_Y_test, smote_encoded_Y_pred_svm))\n",
        "print(\"PRC AUC LogisticRegression: \", average_precision_score(smote_encoded_java_Y_test, smote_encoded_Y_pred_logistic_regression))\n",
        "print(\"PRC AUC Random Forest: \", average_precision_score(smote_encoded_java_Y_test, smote_encoded_Y_pred_random_forest))\n",
        "print(\"PRC AUC GBM: \", average_precision_score(smote_encoded_java_Y_test, smote_encoded_Y_pred_gbm))"
      ]
    },
    {
      "cell_type": "code",
      "execution_count": null,
      "metadata": {
        "id": "79Isv295UpCe"
      },
      "outputs": [],
      "source": [
        "# H-measure\n",
        "print(\"H-measure Trivial Model: \", h_measure(smote_encoded_java_Y_test, smote_encoded_Y_pred_baseline))\n",
        "print(\"H-measure KNN: \", h_measure(smote_encoded_java_Y_test, smote_encoded_Y_pred_knn))\n",
        "print(\"H-measure SVM: \", h_measure(smote_encoded_java_Y_test, smote_encoded_Y_pred_svm))\n",
        "print(\"H-measure LogisticRegression: \", h_measure(smote_encoded_java_Y_test, smote_encoded_Y_pred_logistic_regression))\n",
        "print(\"H-measure Random Forest: \", h_measure(smote_encoded_java_Y_test, smote_encoded_Y_pred_random_forest))\n",
        "print(\"H-measure GBM: \", h_measure(smote_encoded_java_Y_test, smote_encoded_Y_pred_gbm))"
      ]
    }
  ],
  "metadata": {
    "accelerator": "GPU",
    "colab": {
      "collapsed_sections": [
        "aLktyUElxFbm",
        "ENUUgSI4TXQr",
        "bzn1Pt0CuY3E",
        "nzCIqx8XxL5O"
      ],
      "gpuType": "T4",
      "provenance": [],
      "include_colab_link": true
    },
    "kernelspec": {
      "display_name": "Python 3",
      "name": "python3"
    },
    "language_info": {
      "name": "python"
    }
  },
  "nbformat": 4,
  "nbformat_minor": 0
}